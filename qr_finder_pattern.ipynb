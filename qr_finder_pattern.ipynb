{
  "nbformat": 4,
  "nbformat_minor": 0,
  "metadata": {
    "colab": {
      "name": "qr finder pattern.ipynb",
      "provenance": [],
      "collapsed_sections": [
        "L6pCmkJrUC9g",
        "MaZIOR4WaT64",
        "I_xcqQZKYzAj",
        "dQDwvcpmkOxI",
        "F_rQiq1yr6vQ",
        "NChNhm3DWy91",
        "o-5kc0QnIprB",
        "bWAeanGQmEtZ",
        "QtodiAvWujMd",
        "3lXX14z0kNuY"
      ],
      "toc_visible": true
    },
    "kernelspec": {
      "name": "python3",
      "display_name": "Python 3"
    }
  },
  "cells": [
    {
      "cell_type": "markdown",
      "metadata": {
        "id": "L6pCmkJrUC9g"
      },
      "source": [
        "# Setup\n"
      ]
    },
    {
      "cell_type": "code",
      "source": [
        "from google.colab import drive\n",
        "drive.mount('/content/drive')"
      ],
      "metadata": {
        "id": "F59PEOUwXndS",
        "colab": {
          "base_uri": "https://localhost:8080/"
        },
        "outputId": "e2bcf346-2515-4e4e-e74f-3cc29335d3de"
      },
      "execution_count": 1,
      "outputs": [
        {
          "output_type": "stream",
          "name": "stdout",
          "text": [
            "Mounted at /content/drive\n"
          ]
        }
      ]
    },
    {
      "cell_type": "code",
      "metadata": {
        "id": "Fj9YcAnsT4B_",
        "colab": {
          "base_uri": "https://localhost:8080/"
        },
        "outputId": "161caa1d-75ee-45bf-e0f3-717278b05c0a"
      },
      "source": [
        "# import dependencies\n",
        "!pip install imutils\n",
        "from IPython.display import display, Javascript, Image\n",
        "from google.colab.output import eval_js\n",
        "from google.colab.patches import cv2_imshow\n",
        "from base64 import b64decode, b64encode\n",
        "import cv2\n",
        "import matplotlib.pyplot as plt\n",
        "import numpy as np\n",
        "import PIL\n",
        "import io\n",
        "import html\n",
        "import time\n",
        "import math\n",
        "import imutils\n",
        "import itertools\n",
        "import glob\n",
        "\n",
        "from sklearn.cluster import KMeans"
      ],
      "execution_count": 2,
      "outputs": [
        {
          "output_type": "stream",
          "name": "stdout",
          "text": [
            "Looking in indexes: https://pypi.org/simple, https://us-python.pkg.dev/colab-wheels/public/simple/\n",
            "Requirement already satisfied: imutils in /usr/local/lib/python3.7/dist-packages (0.5.4)\n"
          ]
        }
      ]
    },
    {
      "cell_type": "code",
      "metadata": {
        "id": "09b_0FAnUa9y"
      },
      "source": [
        "def imshow(image, *args, **kwargs):\n",
        "    \"\"\"A replacement for cv2.imshow() for use in Jupyter notebooks using matplotlib.\n",
        "\n",
        "        Args:\n",
        "          image : np.ndarray. shape (N, M) or (N, M, 1) is an NxM grayscale image. shape\n",
        "            (N, M, 3) is an NxM BGR color image. \n",
        "    \"\"\"\n",
        "    if len(image.shape) == 3:\n",
        "      # Height, width, channels\n",
        "      # Assume BGR, do a conversion  \n",
        "      image = cv2.cvtColor(image, cv2.COLOR_BGR2RGB)\n",
        "\n",
        "    # Draw the image\n",
        "    plt.imshow(image, *args, **kwargs)\n",
        "    # We'll also disable drawing the axes and tick marks in the plot, since it's actually an image\n",
        "    plt.axis('off')\n",
        "    # Make sure it outputs\n",
        "    # plt.show()\n",
        "    \n",
        "# function to convert the JavaScript object into an OpenCV image\n",
        "def js_to_image(js_reply):\n",
        "  \"\"\"\n",
        "  Params:\n",
        "          js_reply: JavaScript object containing image from webcam\n",
        "  Returns:\n",
        "          img: OpenCV BGR image\n",
        "  \"\"\"\n",
        "  # decode base64 image\n",
        "  image_bytes = b64decode(js_reply.split(',')[1])\n",
        "  # convert bytes to numpy array\n",
        "  jpg_as_np = np.frombuffer(image_bytes, dtype=np.uint8)\n",
        "  # decode numpy array into OpenCV BGR image\n",
        "  img = cv2.imdecode(jpg_as_np, flags=1)\n",
        "\n",
        "  return img\n",
        "\n",
        "# function to convert OpenCV Rectangle bounding box image into base64 byte string to be overlayed on video stream\n",
        "def bbox_to_bytes(bbox_array):\n",
        "  \"\"\"\n",
        "  Params:\n",
        "          bbox_array: Numpy array (pixels) containing rectangle to overlay on video stream.\n",
        "  Returns:\n",
        "        bytes: Base64 image byte string\n",
        "  \"\"\"\n",
        "  # convert array into PIL image\n",
        "  bbox_PIL = PIL.Image.fromarray(bbox_array, 'RGBA')\n",
        "  iobuf = io.BytesIO()\n",
        "  # format bbox into png for return\n",
        "  bbox_PIL.save(iobuf, format='png')\n",
        "  # format return string\n",
        "  bbox_bytes = 'data:image/png;base64,{}'.format((str(b64encode(iobuf.getvalue()), 'utf-8')))\n",
        "\n",
        "  return bbox_bytes"
      ],
      "execution_count": 3,
      "outputs": []
    },
    {
      "cell_type": "markdown",
      "metadata": {
        "id": "jzRKNe1iSlNW"
      },
      "source": [
        "# QR Finder Patterns from Video\n"
      ]
    },
    {
      "cell_type": "markdown",
      "metadata": {
        "id": "MaZIOR4WaT64"
      },
      "source": [
        "## QR Finder Pattern extractor\n"
      ]
    },
    {
      "cell_type": "code",
      "source": [
        "BLUR_VALUE = 3\n",
        "SQUARE_TOLERANCE = 0.15\n",
        "AREA_TOLERANCE = 0.15\n",
        "DISTANCE_TOLERANCE = 0.25\n",
        "WARP_DIM = 300\n",
        "SMALL_DIM = 29\n",
        "\n",
        "\n",
        "def count_children(hierarchy, parent, inner=False):\n",
        "    if parent == -1:\n",
        "        return 0\n",
        "    elif not inner:\n",
        "        return count_children(hierarchy, hierarchy[parent][2], True)\n",
        "    return 1 + count_children(hierarchy, hierarchy[parent][0], True) + count_children(hierarchy, hierarchy[parent][2], True)\n",
        "\n",
        "\n",
        "def has_square_parent(hierarchy, squares, parent):\n",
        "    if hierarchy[parent][3] == -1:\n",
        "        return False\n",
        "    if hierarchy[parent][3] in squares:\n",
        "        return True\n",
        "    return has_square_parent(hierarchy, squares, hierarchy[parent][3])\n",
        "\n",
        "\n",
        "def get_center(c):\n",
        "    m = cv2.moments(c)\n",
        "    return [int(m[\"m10\"] / m[\"m00\"]), int(m[\"m01\"] / m[\"m00\"])]\n",
        "\n",
        "\n",
        "def get_angle(p1, p2):\n",
        "    x_diff = p2[0] - p1[0]\n",
        "    y_diff = p2[1] - p1[1]\n",
        "    return math.degrees(math.atan2(y_diff, x_diff))\n",
        "\n",
        "\n",
        "def get_midpoint(p1, p2):\n",
        "    return [(p1[0] + p2[0]) / 2, (p1[1] + p2[1]) / 2]\n",
        "\n",
        "\n",
        "def get_farthest_points(contour, center):\n",
        "    distances = []\n",
        "    distances_to_points = {}\n",
        "    for point in contour:\n",
        "        point = point[0]\n",
        "        d = math.hypot(point[0] - center[0], point[1] - center[1])\n",
        "        distances.append(d)\n",
        "        distances_to_points[d] = point\n",
        "    distances = sorted(distances)\n",
        "    return [distances_to_points[distances[-1]], distances_to_points[distances[-2]]]\n",
        "\n",
        "\n",
        "def line_intersection(line1, line2):\n",
        "    x_diff = (line1[0][0] - line1[1][0], line2[0][0] - line2[1][0])\n",
        "    y_diff = (line1[0][1] - line1[1][1], line2[0][1] - line2[1][1])\n",
        "\n",
        "    def det(a, b):\n",
        "        return a[0] * b[1] - a[1] * b[0]\n",
        "\n",
        "    div = det(x_diff, y_diff)\n",
        "    if div == 0:\n",
        "        return [-1, -1]\n",
        "\n",
        "    d = (det(*line1), det(*line2))\n",
        "    x = det(d, x_diff) / div\n",
        "    y = det(d, y_diff) / div\n",
        "    return [int(x), int(y)]\n",
        "\n",
        "\n",
        "def extend(a, b, length, int_represent=False):\n",
        "    length_ab = math.sqrt((a[0] - b[0]) ** 2 + (a[1] - b[1]) ** 2)\n",
        "    if length_ab * length <= 0:\n",
        "        return b\n",
        "    result = [b[0] + (b[0] - a[0]) / length_ab * length, b[1] + (b[1] - a[1]) / length_ab * length]\n",
        "    if int_represent:\n",
        "        return [int(result[0]), int(result[1])]\n",
        "    else:\n",
        "        return result\n",
        "\n",
        "\n",
        "def extract(frame, debug=False):\n",
        "    #output = frame.copy()\n",
        "    output = np.zeros([frame.shape[0],frame.shape[1],4], dtype=np.uint8)\n",
        "\n",
        "    # Remove noise and unnecessary contours from frame\n",
        "    gray = cv2.cvtColor(frame, cv2.COLOR_BGR2GRAY)\n",
        "    gray = cv2.bilateralFilter(gray, 11, 17, 17)\n",
        "    gray = cv2.GaussianBlur(gray, (BLUR_VALUE, BLUR_VALUE), 0)\n",
        "    edged = cv2.Canny(gray, 30, 200)\n",
        "\n",
        "    \n",
        "\n",
        "    contours, hierarchy = cv2.findContours(edged.copy(), cv2.RETR_TREE, cv2.CHAIN_APPROX_SIMPLE)\n",
        "\n",
        "    squares = []\n",
        "    square_indices = []\n",
        "\n",
        "    i = 0\n",
        "    for c in contours:\n",
        "        # Approximate the contour\n",
        "        peri = cv2.arcLength(c, True)\n",
        "        area = cv2.contourArea(c)\n",
        "        approx = cv2.approxPolyDP(c, 0.03 * peri, True)\n",
        "\n",
        "        # Find all quadrilateral contours\n",
        "        if len(approx) == 4:\n",
        "            # Determine if quadrilateral is a square within SQUARE_TOLERANCE\n",
        "            if area > 25 and 1 - SQUARE_TOLERANCE < math.fabs((peri / 4) ** 2) / area < 1 + SQUARE_TOLERANCE and count_children(hierarchy[0], i) >= 2 and has_square_parent(hierarchy[0], square_indices, i) is False:\n",
        "                squares.append(approx)\n",
        "                square_indices.append(i)\n",
        "        i += 1\n",
        "\n",
        "\n",
        "    main_corners = []\n",
        "    east_corners = []\n",
        "    south_corners = []\n",
        "    tiny_squares = []\n",
        "    rectangles = []\n",
        "\n",
        "    # Determine if squares are QR codes\n",
        "    for square in squares:\n",
        "        area = cv2.contourArea(square)\n",
        "        center = get_center(square)\n",
        "        peri = cv2.arcLength(square, True)\n",
        "\n",
        "        similar = []\n",
        "        tiny = []\n",
        "        for other in squares:\n",
        "            if square[0][0][0] != other[0][0][0]:\n",
        "                # Determine if square is similar to other square within AREA_TOLERANCE\n",
        "                if math.fabs(area - cv2.contourArea(other)) / max(area, cv2.contourArea(other)) <= AREA_TOLERANCE:\n",
        "                    similar.append(other)\n",
        "                elif peri / 4 / 2 > cv2.arcLength(other, True) / 4:\n",
        "                    tiny.append(other)\n",
        "\n",
        "        if len(similar) >= 2:\n",
        "            distances = []\n",
        "            distances_to_contours = {}\n",
        "            for sim in similar:\n",
        "                sim_center = get_center(sim)\n",
        "                d = math.hypot(sim_center[0] - center[0], sim_center[1] - center[1])\n",
        "                distances.append(d)\n",
        "                distances_to_contours[d] = sim\n",
        "            distances = sorted(distances)\n",
        "            closest_a = distances[-1]\n",
        "            closest_b = distances[-2]\n",
        "\n",
        "            # Determine if this square is the top left QR code indicator\n",
        "            if max(closest_a, closest_b) < cv2.arcLength(square, True) * 2.5 and math.fabs(closest_a - closest_b) / max(closest_a, closest_b) <= DISTANCE_TOLERANCE:\n",
        "                # Determine placement of other indicators (even if code is rotated)\n",
        "                angle_a = get_angle(get_center(distances_to_contours[closest_a]), center)\n",
        "                angle_b = get_angle(get_center(distances_to_contours[closest_b]), center)\n",
        "                if angle_a < angle_b or (angle_b < -90 and angle_a > 0):\n",
        "                    east = distances_to_contours[closest_a]\n",
        "                    south = distances_to_contours[closest_b]\n",
        "                else:\n",
        "                    east = distances_to_contours[closest_b]\n",
        "                    south = distances_to_contours[closest_a]\n",
        "                midpoint = get_midpoint(get_center(east), get_center(south))\n",
        "                # Determine location of fourth corner\n",
        "                # Find closest tiny indicator if possible\n",
        "                min_dist = 10000\n",
        "                t = []\n",
        "                tiny_found = False\n",
        "                if len(tiny) > 0:\n",
        "                    for tin in tiny:\n",
        "                        tin_center = get_center(tin)\n",
        "                        d = math.hypot(tin_center[0] - midpoint[0], tin_center[1] - midpoint[1])\n",
        "                        if d < min_dist:\n",
        "                            min_dist = d\n",
        "                            t = tin\n",
        "                    tiny_found = len(t) > 0 and min_dist < peri\n",
        "\n",
        "                diagonal = peri / 4 * 1.41421\n",
        "\n",
        "\n",
        "                # extrapolate corner based off of other corners\n",
        "                farthest_a = get_farthest_points(distances_to_contours[closest_a], center)\n",
        "                farthest_b = get_farthest_points(distances_to_contours[closest_b], center)\n",
        "                # Use sides of indicators to determine fourth corner\n",
        "                offset = line_intersection(farthest_a, farthest_b)\n",
        "                if offset[0] == -1:\n",
        "                    # Error, extrapolation failed, go on to next possible code\n",
        "                    continue\n",
        "                offset = extend(midpoint, offset, peri / 4 / 7)\n",
        "                \n",
        "\n",
        "                # Append rectangle, offsetting to farthest borders\n",
        "                rectangles.append([extend(midpoint, center, diagonal / 2, True), extend(midpoint, get_center(distances_to_contours[closest_b]), diagonal / 2, True), offset, extend(midpoint, get_center(distances_to_contours[closest_a]), diagonal / 2, True)])\n",
        "                east_corners.append(east)\n",
        "                south_corners.append(south)\n",
        "                main_corners.append(square)\n",
        "\n",
        "    \n",
        "    #debug\n",
        "    #testOutput = frame.copy()\n",
        "    #imshow(cv2.drawContours(testOutput, squares, -1, (255, 255, 0, 1), 2 ))\n",
        "\n",
        "\n",
        "\n",
        "    # Draw rectangle\n",
        "    for rect in rectangles:\n",
        "        vrx = np.array((rect[0], rect[1], rect[2], rect[3]), np.int32)\n",
        "        vrx = vrx.reshape((-1, 1, 2))\n",
        "        cv2.polylines(output, [vrx], True, (0, 255, 255, 1), 2)\n",
        "\n",
        "\n",
        "    # Draw debug information onto frame before outputting it\n",
        "    if debug:\n",
        "        cv2.drawContours(output, squares, -1, (25, 255, 5, 1), 2)\n",
        "        cv2.drawContours(output, main_corners, -1, (0, 0, 128,1), 2)\n",
        "        cv2.drawContours(output, east_corners, -1, (0, 128, 0,1), 2)\n",
        "        cv2.drawContours(output, south_corners, -1, (128, 0, 0,1), 2)\n",
        "        cv2.drawContours(output, tiny_squares, -1, (128, 128, 0,1), 2)\n",
        "\n",
        "    return output"
      ],
      "metadata": {
        "id": "vrYUjxGBkjF5"
      },
      "execution_count": 4,
      "outputs": []
    },
    {
      "cell_type": "code",
      "metadata": {
        "id": "ZpA68lTrcvZs"
      },
      "source": [
        "# initialize the Haar Cascade face detection model\n",
        "face_cascade = cv2.CascadeClassifier(cv2.samples.findFile(cv2.data.haarcascades + 'haarcascade_frontalface_default.xml'))"
      ],
      "execution_count": 5,
      "outputs": []
    },
    {
      "cell_type": "markdown",
      "metadata": {
        "id": "I_xcqQZKYzAj"
      },
      "source": [
        "## Initialize Webcam "
      ]
    },
    {
      "cell_type": "markdown",
      "source": [
        "- start a video stream using our webcam as input\n",
        "- run each frame through detection\n",
        "- create an overlay image\n",
        "- overlay bbx video stream"
      ],
      "metadata": {
        "id": "HCIgtRse_6cH"
      }
    },
    {
      "cell_type": "code",
      "metadata": {
        "id": "ghUlAJzKSjFT"
      },
      "source": [
        "# JavaScript to properly create our live video stream using our webcam as input\n",
        "def video_stream():\n",
        "  js = Javascript('''\n",
        "    var video;\n",
        "    var div = null;\n",
        "    var stream;\n",
        "    var captureCanvas;\n",
        "    var imgElement;\n",
        "    var labelElement;\n",
        "    \n",
        "    var pendingResolve = null;\n",
        "    var shutdown = false;\n",
        "    \n",
        "    function removeDom() {\n",
        "       stream.getVideoTracks()[0].stop();\n",
        "       video.remove();\n",
        "       div.remove();\n",
        "       video = null;\n",
        "       div = null;\n",
        "       stream = null;\n",
        "       imgElement = null;\n",
        "       captureCanvas = null;\n",
        "       labelElement = null;\n",
        "    }\n",
        "    \n",
        "    function onAnimationFrame() {\n",
        "      if (!shutdown) {\n",
        "        window.requestAnimationFrame(onAnimationFrame);\n",
        "      }\n",
        "      if (pendingResolve) {\n",
        "        var result = \"\";\n",
        "        if (!shutdown) {\n",
        "          captureCanvas.getContext('2d').drawImage(video, 0, 0, 640, 480);\n",
        "          result = captureCanvas.toDataURL('image/jpeg', 0.8)\n",
        "        }\n",
        "        var lp = pendingResolve;\n",
        "        pendingResolve = null;\n",
        "        lp(result);\n",
        "      }\n",
        "    }\n",
        "    \n",
        "    async function createDom() {\n",
        "      if (div !== null) {\n",
        "        return stream;\n",
        "      }\n",
        "\n",
        "      div = document.createElement('div');\n",
        "      div.style.border = '2px solid black';\n",
        "      div.style.padding = '3px';\n",
        "      div.style.width = '100%';\n",
        "      div.style.maxWidth = '600px';\n",
        "      document.body.appendChild(div);\n",
        "      \n",
        "      const modelOut = document.createElement('div');\n",
        "      modelOut.innerHTML = \"<span>Status:</span>\";\n",
        "      labelElement = document.createElement('span');\n",
        "      labelElement.innerText = 'No data';\n",
        "      labelElement.style.fontWeight = 'bold';\n",
        "      modelOut.appendChild(labelElement);\n",
        "      div.appendChild(modelOut);\n",
        "           \n",
        "      video = document.createElement('video');\n",
        "      video.style.display = 'block';\n",
        "      video.width = div.clientWidth - 6;\n",
        "      video.setAttribute('playsinline', '');\n",
        "      video.onclick = () => { shutdown = true; };\n",
        "      stream = await navigator.mediaDevices.getUserMedia(\n",
        "          {video: { facingMode: \"environment\"}});\n",
        "      div.appendChild(video);\n",
        "\n",
        "      imgElement = document.createElement('img');\n",
        "      imgElement.style.position = 'absolute';\n",
        "      imgElement.style.zIndex = 1;\n",
        "      imgElement.onclick = () => { shutdown = true; };\n",
        "      div.appendChild(imgElement);\n",
        "      \n",
        "      const instruction = document.createElement('div');\n",
        "      instruction.innerHTML = \n",
        "          '<span style=\"color: red; font-weight: bold;\">' +\n",
        "          'When finished, click here or on the video to stop this demo</span>';\n",
        "      div.appendChild(instruction);\n",
        "      instruction.onclick = () => { shutdown = true; };\n",
        "      \n",
        "      video.srcObject = stream;\n",
        "      await video.play();\n",
        "\n",
        "      captureCanvas = document.createElement('canvas');\n",
        "      captureCanvas.width = 640; //video.videoWidth;\n",
        "      captureCanvas.height = 480; //video.videoHeight;\n",
        "      window.requestAnimationFrame(onAnimationFrame);\n",
        "      \n",
        "      return stream;\n",
        "    }\n",
        "    async function stream_frame(label, imgData) {\n",
        "      if (shutdown) {\n",
        "        removeDom();\n",
        "        shutdown = false;\n",
        "        return '';\n",
        "      }\n",
        "\n",
        "      var preCreate = Date.now();\n",
        "      stream = await createDom();\n",
        "      \n",
        "      var preShow = Date.now();\n",
        "      if (label != \"\") {\n",
        "        labelElement.innerHTML = label;\n",
        "      }\n",
        "            \n",
        "      if (imgData != \"\") {\n",
        "        var videoRect = video.getClientRects()[0];\n",
        "        imgElement.style.top = videoRect.top + \"px\";\n",
        "        imgElement.style.left = videoRect.left + \"px\";\n",
        "        imgElement.style.width = videoRect.width + \"px\";\n",
        "        imgElement.style.height = videoRect.height + \"px\";\n",
        "        imgElement.src = imgData;\n",
        "      }\n",
        "      \n",
        "      var preCapture = Date.now();\n",
        "      var result = await new Promise(function(resolve, reject) {\n",
        "        pendingResolve = resolve;\n",
        "      });\n",
        "      shutdown = false;\n",
        "      \n",
        "      return {'create': preShow - preCreate, \n",
        "              'show': preCapture - preShow, \n",
        "              'capture': Date.now() - preCapture,\n",
        "              'img': result};\n",
        "    }\n",
        "    ''')\n",
        "\n",
        "  display(js)\n",
        "  \n",
        "def video_frame(label, bbox):\n",
        "  data = eval_js('stream_frame(\"{}\", \"{}\")'.format(label, bbox))\n",
        "  return data"
      ],
      "execution_count": 6,
      "outputs": []
    },
    {
      "cell_type": "markdown",
      "source": [
        "## Run"
      ],
      "metadata": {
        "id": "dQDwvcpmkOxI"
      }
    },
    {
      "cell_type": "code",
      "metadata": {
        "id": "1nkSnkbkk4cC",
        "colab": {
          "base_uri": "https://localhost:8080/",
          "height": 17
        },
        "outputId": "9161ddca-ec09-4c5e-b5a8-7e875336ad26"
      },
      "source": [
        "# start streaming video from webcam\n",
        "video_stream()\n",
        "# label for video\n",
        "label_html = 'Capturing...'\n",
        "# initialze bounding box to empty\n",
        "bbox = ''\n",
        "count = 0 \n",
        "while True:\n",
        "    js_reply = video_frame(label_html, bbox)\n",
        "    if not js_reply:\n",
        "        break\n",
        "\n",
        "    # convert JS response to OpenCV Image\n",
        "    img = js_to_image(js_reply[\"img\"])\n",
        "\n",
        "   \n",
        "    #extract code\n",
        "    frame = extract(img, True)\n",
        " \n",
        "    \n",
        "    frame[:,:,3] = (frame.max(axis = 2) > 0 ).astype(int) * 255\n",
        "\n",
        "    # convert overlay of bbox into bytes\n",
        "    bbox_bytes = bbox_to_bytes(frame)\n",
        "\n",
        "    # update bbox so next frame gets new overlay\n",
        "    bbox = bbox_bytes"
      ],
      "execution_count": null,
      "outputs": [
        {
          "output_type": "display_data",
          "data": {
            "text/plain": [
              "<IPython.core.display.Javascript object>"
            ],
            "application/javascript": [
              "\n",
              "    var video;\n",
              "    var div = null;\n",
              "    var stream;\n",
              "    var captureCanvas;\n",
              "    var imgElement;\n",
              "    var labelElement;\n",
              "    \n",
              "    var pendingResolve = null;\n",
              "    var shutdown = false;\n",
              "    \n",
              "    function removeDom() {\n",
              "       stream.getVideoTracks()[0].stop();\n",
              "       video.remove();\n",
              "       div.remove();\n",
              "       video = null;\n",
              "       div = null;\n",
              "       stream = null;\n",
              "       imgElement = null;\n",
              "       captureCanvas = null;\n",
              "       labelElement = null;\n",
              "    }\n",
              "    \n",
              "    function onAnimationFrame() {\n",
              "      if (!shutdown) {\n",
              "        window.requestAnimationFrame(onAnimationFrame);\n",
              "      }\n",
              "      if (pendingResolve) {\n",
              "        var result = \"\";\n",
              "        if (!shutdown) {\n",
              "          captureCanvas.getContext('2d').drawImage(video, 0, 0, 640, 480);\n",
              "          result = captureCanvas.toDataURL('image/jpeg', 0.8)\n",
              "        }\n",
              "        var lp = pendingResolve;\n",
              "        pendingResolve = null;\n",
              "        lp(result);\n",
              "      }\n",
              "    }\n",
              "    \n",
              "    async function createDom() {\n",
              "      if (div !== null) {\n",
              "        return stream;\n",
              "      }\n",
              "\n",
              "      div = document.createElement('div');\n",
              "      div.style.border = '2px solid black';\n",
              "      div.style.padding = '3px';\n",
              "      div.style.width = '100%';\n",
              "      div.style.maxWidth = '600px';\n",
              "      document.body.appendChild(div);\n",
              "      \n",
              "      const modelOut = document.createElement('div');\n",
              "      modelOut.innerHTML = \"<span>Status:</span>\";\n",
              "      labelElement = document.createElement('span');\n",
              "      labelElement.innerText = 'No data';\n",
              "      labelElement.style.fontWeight = 'bold';\n",
              "      modelOut.appendChild(labelElement);\n",
              "      div.appendChild(modelOut);\n",
              "           \n",
              "      video = document.createElement('video');\n",
              "      video.style.display = 'block';\n",
              "      video.width = div.clientWidth - 6;\n",
              "      video.setAttribute('playsinline', '');\n",
              "      video.onclick = () => { shutdown = true; };\n",
              "      stream = await navigator.mediaDevices.getUserMedia(\n",
              "          {video: { facingMode: \"environment\"}});\n",
              "      div.appendChild(video);\n",
              "\n",
              "      imgElement = document.createElement('img');\n",
              "      imgElement.style.position = 'absolute';\n",
              "      imgElement.style.zIndex = 1;\n",
              "      imgElement.onclick = () => { shutdown = true; };\n",
              "      div.appendChild(imgElement);\n",
              "      \n",
              "      const instruction = document.createElement('div');\n",
              "      instruction.innerHTML = \n",
              "          '<span style=\"color: red; font-weight: bold;\">' +\n",
              "          'When finished, click here or on the video to stop this demo</span>';\n",
              "      div.appendChild(instruction);\n",
              "      instruction.onclick = () => { shutdown = true; };\n",
              "      \n",
              "      video.srcObject = stream;\n",
              "      await video.play();\n",
              "\n",
              "      captureCanvas = document.createElement('canvas');\n",
              "      captureCanvas.width = 640; //video.videoWidth;\n",
              "      captureCanvas.height = 480; //video.videoHeight;\n",
              "      window.requestAnimationFrame(onAnimationFrame);\n",
              "      \n",
              "      return stream;\n",
              "    }\n",
              "    async function stream_frame(label, imgData) {\n",
              "      if (shutdown) {\n",
              "        removeDom();\n",
              "        shutdown = false;\n",
              "        return '';\n",
              "      }\n",
              "\n",
              "      var preCreate = Date.now();\n",
              "      stream = await createDom();\n",
              "      \n",
              "      var preShow = Date.now();\n",
              "      if (label != \"\") {\n",
              "        labelElement.innerHTML = label;\n",
              "      }\n",
              "            \n",
              "      if (imgData != \"\") {\n",
              "        var videoRect = video.getClientRects()[0];\n",
              "        imgElement.style.top = videoRect.top + \"px\";\n",
              "        imgElement.style.left = videoRect.left + \"px\";\n",
              "        imgElement.style.width = videoRect.width + \"px\";\n",
              "        imgElement.style.height = videoRect.height + \"px\";\n",
              "        imgElement.src = imgData;\n",
              "      }\n",
              "      \n",
              "      var preCapture = Date.now();\n",
              "      var result = await new Promise(function(resolve, reject) {\n",
              "        pendingResolve = resolve;\n",
              "      });\n",
              "      shutdown = false;\n",
              "      \n",
              "      return {'create': preShow - preCreate, \n",
              "              'show': preCapture - preShow, \n",
              "              'capture': Date.now() - preCapture,\n",
              "              'img': result};\n",
              "    }\n",
              "    "
            ]
          },
          "metadata": {}
        }
      ]
    },
    {
      "cell_type": "markdown",
      "source": [
        "#Hu Moments"
      ],
      "metadata": {
        "id": "F_rQiq1yr6vQ"
      }
    },
    {
      "cell_type": "code",
      "source": [
        "from math import copysign, log10\n",
        "\n",
        "# Read image\n",
        "im = cv2.imread('/content/drive/MyDrive/Colab Notebooks/segment.png',cv2.IMREAD_GRAYSCALE)\n",
        "im2 = cv2.imread('/content/drive/MyDrive/Colab Notebooks/segment_4.png',cv2.IMREAD_GRAYSCALE)\n",
        "\n",
        "# Threshold image\n",
        "_,im = cv2.threshold(im, 128, 255, cv2.THRESH_BINARY)\n",
        "_,im2 = cv2.threshold(im2, 128, 255, cv2.THRESH_BINARY)\n",
        "\n",
        "# Calculate Moments\n",
        "moment = cv2.moments(im)\n",
        "moment2 = cv2.moments(im2)\n",
        "\n",
        "\n",
        "# Calculate Hu Moments\n",
        "huMoments = cv2.HuMoments(moment)\n",
        "huMoments2 = cv2.HuMoments(moment2)\n",
        "\n",
        "# Print Hu Moments\n",
        "\n",
        "for i in range(0,7):\n",
        "  print(\"Image 1: {:.5f}\".format(-1*copysign(1.0,huMoments[i])*log10(abs(huMoments[i]))),end=' ')\n",
        "\n",
        "\n",
        "print()\n",
        "for i in range(0,7):\n",
        "  print(\"Image 2: {:.5f}\".format(-1*copysign(1.0,huMoments2[i])*log10(abs(huMoments2[i]))),end=' ')\n"
      ],
      "metadata": {
        "id": "LujpSOVBr581"
      },
      "execution_count": null,
      "outputs": []
    },
    {
      "cell_type": "code",
      "source": [
        "im1 = cv2.imread(\"/content/drive/MyDrive/Colab Notebooks/segment.png\",cv2.IMREAD_GRAYSCALE)\n",
        "im2 = cv2.imread(\"/content/drive/MyDrive/Colab Notebooks/segment_1.png\",cv2.IMREAD_GRAYSCALE)\n",
        "im3 = cv2.imread(\"/content/drive/MyDrive/Colab Notebooks/segment_2.png\",cv2.IMREAD_GRAYSCALE)\n",
        "im4 = cv2.imread(\"/content/drive/MyDrive/Colab Notebooks/segment_4.png\",cv2.IMREAD_GRAYSCALE)\n",
        "\n",
        "m1 = cv2.matchShapes(im1,im1,cv2.CONTOURS_MATCH_I2,0)\n",
        "m2 = cv2.matchShapes(im1,im2,cv2.CONTOURS_MATCH_I2,0)\n",
        "m3 = cv2.matchShapes(im1,im3,cv2.CONTOURS_MATCH_I2,0)\n",
        "m4 = cv2.matchShapes(im1,im4,cv2.CONTOURS_MATCH_I2,0)\n",
        "\n",
        "print(\"Shape Distances Between \\n-------------------------\")\n",
        "\n",
        "print(\"1.png and 1.png : {}\".format(m1))\n",
        "print(\"1.png and 2.png : {}\".format(m2))\n",
        "print(\"1.png and 3.png : {}\".format(m3))\n",
        "print(\"1.png and 4.png : {}\".format(m4))"
      ],
      "metadata": {
        "id": "rq_mVGbmtsNB"
      },
      "execution_count": null,
      "outputs": []
    },
    {
      "cell_type": "code",
      "source": [
        "image = cv2.imread(\"/content/drive/MyDrive/Colab Notebooks/Closeup.png\")\n",
        "image = cv2.cvtColor(image, cv2.COLOR_BGR2GRAY)\n",
        "#image = cv2.GaussianBlur(image, (7, 7), 0)\n",
        "#image = cv2.bilateralFilter(image, 11, 17, 17)\n",
        "\n",
        "image = cv2.Canny(image, 1, 2)\n",
        "\n",
        "image = cv2.dilate(image, np.ones((3)), iterations=1)\n",
        "image = cv2.erode(image, np.ones((3)), iterations=1)\n",
        "\n",
        "output = cv2.imread(\"/content/drive/MyDrive/Colab Notebooks/Closeup.png\") #np.zeros([image.shape[0],image.shape[1],4], dtype=np.uint8)\n",
        "\n",
        "    \n",
        "contours, hierarchy = cv2.findContours(image.copy(), cv2.RETR_TREE, cv2.CHAIN_APPROX_SIMPLE)\n",
        "\n",
        "shapes=[]\n",
        "for c in contours:\n",
        "  peri = cv2.arcLength(c, True)\n",
        "  shapes.append(cv2.approxPolyDP(c, 5, True))\n",
        "\n",
        "output = cv2.drawContours(output, contours, -1, (255, 255, 0, 1), 2)\n",
        "cv2_imshow(output)"
      ],
      "metadata": {
        "id": "eR5YK13IzB7f"
      },
      "execution_count": null,
      "outputs": []
    },
    {
      "cell_type": "markdown",
      "source": [
        "#BLOB"
      ],
      "metadata": {
        "id": "NChNhm3DWy91"
      }
    },
    {
      "cell_type": "code",
      "source": [
        "im = cv2.imread(\"/content/drive/MyDrive/Colab Notebooks/Closeup.png\", cv2.IMREAD_GRAYSCALE)\n",
        "\n",
        "# Setup SimpleBlobDetector parameters.\n",
        "params = cv2.SimpleBlobDetector_Params()\n",
        "\n",
        "# Change thresholds\n",
        "params.minThreshold = 0\n",
        "params.maxThreshold = 400\n",
        "\n",
        "\n",
        "# Filter by Area.\n",
        "params.filterByArea = True\n",
        "params.minArea = 1500\n",
        "\n",
        "\n",
        "\n",
        "# Create a detector with the parameters\n",
        "ver = (cv2.__version__).split('.')\n",
        "if int(ver[0]) < 3 :\n",
        "\tdetector = cv2.SimpleBlobDetector(params)\n",
        "else : \n",
        "\tdetector = cv2.SimpleBlobDetector_create(params)\n",
        "\n",
        "\n",
        "# Detect blobs.\n",
        "keypoints = detector.detect(im)\n",
        "\n",
        "# Draw detected blobs as red circles.\n",
        "# cv2.DRAW_MATCHES_FLAGS_DRAW_RICH_KEYPOINTS ensures\n",
        "# the size of the circle corresponds to the size of blob\n",
        "\n",
        "im_with_keypoints = cv2.drawKeypoints(im, keypoints, np.array([]), (0,0,255), cv2.DRAW_MATCHES_FLAGS_DRAW_RICH_KEYPOINTS)\n",
        "\n",
        "# Show blobs\n",
        "imshow(im_with_keypoints)\n",
        "cv2.waitKey(0)"
      ],
      "metadata": {
        "colab": {
          "base_uri": "https://localhost:8080/"
        },
        "id": "KE0AGvWNWta6",
        "outputId": "4833ebe2-e3ce-41d9-b346-d1ee37de32e4"
      },
      "execution_count": null,
      "outputs": [
        {
          "output_type": "execute_result",
          "data": {
            "text/plain": [
              "-1"
            ]
          },
          "metadata": {},
          "execution_count": 22
        },
        {
          "output_type": "display_data",
          "data": {
            "text/plain": [
              "<Figure size 432x288 with 1 Axes>"
            ],
            "image/png": "[encoded data removed]"
          },
          "metadata": {
            "needs_background": "light"
          }
        }
      ]
    },
    {
      "cell_type": "markdown",
      "source": [
        "#Template matching\n"
      ],
      "metadata": {
        "id": "jjjGi8nTahhc"
      }
    },
    {
      "cell_type": "markdown",
      "source": [
        "##Methods"
      ],
      "metadata": {
        "id": "ge8BO9GnHeT7"
      }
    },
    {
      "cell_type": "code",
      "source": [
        "def dist(point1, point2):\n",
        "  \"\"\" Calculates Distance between two points because math.dist() wont work\"\"\"\n",
        "  temp = np.asarray(point1) - np.asarray(point2)\n",
        "  return np.sqrt(np.dot(temp.T, temp))\n",
        "\n",
        "def filterCoordinates(input_list, threshold=5):\n",
        "  \"\"\" Deletes similar matches within threshold distance of points\"\"\"\n",
        "  input = input_list.tolist()\n",
        "  combos = itertools.combinations(input, 2)\n",
        "  points_to_remove = [point2 for point1, point2 in combos if dist(point1, point2)<=threshold]\n",
        "  points_to_keep = [point for point in input if point not in points_to_remove]\n",
        "  return points_to_keep\n",
        "  \n",
        "def tupleCoord(inTuple):\n",
        "  \"\"\"Converts a tuple consisting of two arrays with length x into a coordinate np.array of shape (x,2)\"\"\"\n",
        "  coordinates = np.zeros((inTuple[0].shape[0], 2), dtype=int)\n",
        "  i = 0\n",
        "  for point in zip(*inTuple[::-1]):\n",
        "    coordinates[i] = (point[0],point[1])\n",
        "    i +=1\n",
        "\n",
        "  return coordinates"
      ],
      "metadata": {
        "id": "ccxa5viFu3Ls"
      },
      "execution_count": 8,
      "outputs": []
    },
    {
      "cell_type": "code",
      "source": [
        "def shapeExtraction(inputImage, template, threshold=0.8):\n",
        "  \"\"\"Extracts the template shape from the given image.\n",
        "     Returns rectangles, dimensions, overlay(rectangles drawn on transparent image)\"\"\"\n",
        "  image = inputImage\n",
        "  output = np.zeros([image.shape[0],image.shape[1],4], dtype=np.uint8)\n",
        "\n",
        "  image = cv2.cvtColor(image, cv2.COLOR_BGR2GRAY)\n",
        "  image = 255 - image  \n",
        "\n",
        "  # Store width and height of template in w and h\n",
        "  w , h = template.shape[::-1]\n",
        "\n",
        "  # Perform match operations.\n",
        "  res = cv2.matchTemplate(image,template,cv2.TM_CCOEFF_NORMED)\n",
        "  loc = np.where( res >= threshold)\n",
        "  \n",
        "  #delete similar coordinates\n",
        "  rectangles = filterCoordinates(tupleCoord(loc))\n",
        "\n",
        "  # Draw a rectangle around the matched region.\n",
        "  for rectangle in rectangles:\n",
        "    cv2.rectangle(output, (rectangle[0], rectangle[1]), (rectangle[0] + w, rectangle[1] + h), (255,0,0,1), 2)\n",
        "  \n",
        "  return rectangles, (w,h), output"
      ],
      "metadata": {
        "id": "gLCIDEOOajF9"
      },
      "execution_count": 9,
      "outputs": []
    },
    {
      "cell_type": "code",
      "source": [
        "def scaleTo(inputImage, maxSize):\n",
        "  \"\"\" Scales image to a maxSize\"\"\"\n",
        "  maxVal = max(inputImage.shape[0], inputImage.shape[1])\n",
        "  scaleFactor = maxSize / maxVal\n",
        "  width = int(inputImage.shape[1] * scaleFactor)\n",
        "  height = int(inputImage.shape[0] * scaleFactor)\n",
        "  dim = (width, height)\n",
        "\n",
        "  return cv2.resize(inputImage, dim, interpolation = cv2.INTER_AREA)"
      ],
      "metadata": {
        "id": "FH4MqjsuNqQq"
      },
      "execution_count": 10,
      "outputs": []
    },
    {
      "cell_type": "code",
      "source": [
        "def clusterColors(img, k):\n",
        "  \"\"\"Clusters Colors in a given image into k.\"\"\"\n",
        "  kmeans=KMeans(n_clusters=k)\n",
        "  s=kmeans.fit(img)\n",
        "  labels=kmeans.labels_\n",
        "  centroid=kmeans.cluster_centers_\n",
        "  #print(centroid)\n",
        "  labels=list(labels)\n",
        "  percent=[]\n",
        "  for i in range(len(centroid)):\n",
        "    j=labels.count(i)\n",
        "    j=j/(len(labels))\n",
        "    percent.append(j)\n",
        "  return percent, (np.array(centroid/255))"
      ],
      "metadata": {
        "id": "iQRSJKCYUp8U"
      },
      "execution_count": 172,
      "outputs": []
    },
    {
      "cell_type": "code",
      "source": [
        "import colorsys\n",
        "def colorDist(color1, color2):\n",
        "  r,g,b = color1[:]\n",
        "  colorOne = colorsys.rgb_to_hsv(r,g,b)\n",
        "  r,g,b = color2[:]\n",
        "  colorTwo = colorsys.rgb_to_hsv(r,g,b)\n",
        "\n",
        "  h0,s0,v0 = colorOne[:]\n",
        "  h1,s1,v1 = colorTwo[:]\n",
        "  dh = min(abs(h1-h0), 360-abs(h1-h0)) / 180.0\n",
        "  ds = abs(s1-s0)\n",
        "  dv = abs(v1-v0) / 255.0\n",
        "\n",
        "  return dh#math.sqrt(dh*dh+ds*ds+dv*dv)"
      ],
      "metadata": {
        "id": "COif11E7pBga"
      },
      "execution_count": 57,
      "outputs": []
    },
    {
      "cell_type": "code",
      "source": [
        "def getAngle(a, b,c):\n",
        "  \"\"\"Calculates the angle between three points\"\"\"\n",
        "  angle = math.degrees(math.atan2(c[1]-b[1], c[0]-b[0]) - math.atan2(a[1]-b[1], a[0]-b[0]))\n",
        "  return angle + 360 if angle < 0 else angle"
      ],
      "metadata": {
        "id": "EXq6FN3o6vyX"
      },
      "execution_count": 13,
      "outputs": []
    },
    {
      "cell_type": "markdown",
      "source": [
        "##Id Selection"
      ],
      "metadata": {
        "id": "o-5kc0QnIprB"
      }
    },
    {
      "cell_type": "code",
      "source": [
        "import glob\n",
        "\n",
        "def saveImage(image, rotation, id, tlx, tly, brx, bry):\n",
        "  #for i in range(rotation +1): image = cv2.rotate(image, cv2.ROTATE_90_COUNTERCLOCKWISE)\n",
        "  #for i in range(rotation +1): image = cv2.rotate(image, cv2.ROTATE_90_CLOCKWISE)\n",
        "  #crop = image[tlx:brx,tly:bry]\n",
        "\n",
        "  cv2.imwrite(f\"cam_{tlx}:{tly},{brx}:{bry}.jpg\", image)\n",
        "\n",
        "def id_selector(image, templatePath, searchThreshold = 0.8, distanceThreshold = 0.02, angleVariance = 2, debug = False, templateKnown = ''):\n",
        "  S_DIST = 0.875 #Search distance for inset point\n",
        "  R_DIST = 1.1428571429 #Relative distance in width to edge based on height\n",
        "  HV_TOLERANCE  = 0.0625 #Horizontal and vertical tolerance for 'parallel' points relative to distance\n",
        "\n",
        "  if max(image.shape[:]) > 800:\n",
        "    image = scaleTo(image,800)\n",
        "\n",
        "  inputImage = image.copy()\n",
        "\n",
        "  id_perimeter = []\n",
        "  templateMatch = ''\n",
        "  overlay = np.zeros([image.shape[0],image.shape[1],4], dtype=np.uint8)\n",
        "\n",
        "\n",
        "  for rotation in range(0,4):\n",
        "    image = cv2.rotate(image, cv2.cv2.ROTATE_90_CLOCKWISE)\n",
        "    overlay = cv2.rotate(overlay, cv2.cv2.ROTATE_90_CLOCKWISE)\n",
        "\n",
        "\n",
        "    for tPath in glob.glob(templatePath + \"*.jpg\"):     \n",
        "      template = cv2.imread(tPath,0)\n",
        "      if templateKnown != '':\n",
        "        template= cv2.imread(templateKnown,0)\n",
        "\n",
        "      rectangles, dimensions, _ = shapeExtraction(image,template,searchThreshold)\n",
        " \n",
        "      half = int(max(dimensions[:])/2)\n",
        "\n",
        "      midpoints = []\n",
        "      for rect in rectangles:\n",
        "        midpoints.append(get_midpoint(rect, (rect[0] + dimensions[0],rect[1] + dimensions[1])))\n",
        "        if debug:\n",
        "          cv2.circle(overlay,tuple(np.asarray(get_midpoint(rect, (rect[0] + dimensions[0],rect[1] + dimensions[1])), dtype = int)), 10, (255,255,0,1),2)\n",
        "\n",
        "      pointMatch = []\n",
        "      combos = itertools.permutations(midpoints, 3)\n",
        "\n",
        "      for point1, point2, point3 in combos:\n",
        "        d1, d2 = dist(point1, point2), dist(point2, point3)\n",
        "        x1, y1 = point1[:]\n",
        "        x2, y2 = point2[:]\n",
        "        x3, y3 = point3[:]\n",
        "\n",
        "        if x3 > x2 and y1 > y2 and abs(y3-y2) < (d1 * HV_TOLERANCE) and abs(x2-x1) < (d1 * HV_TOLERANCE): \n",
        "          if  (S_DIST - distanceThreshold) * d1 < d2 < (S_DIST + distanceThreshold) * d1 and \\\n",
        "              (270 - angleVariance < getAngle(point1,point2,point3) < 270 + angleVariance \\\n",
        "              or 90 - angleVariance < getAngle(point1,point2,point3) < 90 + angleVariance): \n",
        "            pointMatch.append([point1,point2,point3])\n",
        "            templateMatch = tPath\n",
        "\n",
        "\n",
        "\n",
        "      countPointSet = 0\n",
        "      pointMatch = np.asarray(pointMatch).astype(int)\n",
        "\n",
        "      for pointSet in pointMatch:\n",
        "        countPointSet +=1\n",
        "        tlx, tly, brx, bry = pointSet[1][0] - half, pointSet[1][1] -half, pointSet[1][0] + (dist(pointSet[1], pointSet[2])* R_DIST).astype(int) + half, pointSet[0][1] + half\n",
        "        cv2.rectangle(overlay, (tlx,tly), (brx,bry),(0,255,255,1), 3 )\n",
        "        id_perimeter.append([[tlx, tly],[brx,bry],[rotation]])\n",
        "\n",
        "        saveImage(inputImage, rotation, countPointSet, tlx, tly, brx, bry)\n",
        "\n",
        "        if debug:\n",
        "          for mPoint in pointSet:\n",
        "            x,y = mPoint[:]\n",
        "            cv2.rectangle(overlay, (x-half, y-half)  , (x+half, y+half), (255,255,255,1), 2)\n",
        "\n",
        "          cv2.line(overlay,  (pointSet[0][0], pointSet[0][1]), (pointSet[1][0], pointSet[1][1]), (255,0,255,1), 2)\n",
        "          cv2.line(overlay,  (pointSet[1][0], pointSet[1][1]), (pointSet[2][0], pointSet[2][1]), (0,255,255,1), 2)\n",
        "          cv2.line(overlay,  (pointSet[2][0], pointSet[2][1]), (pointSet[0][0], pointSet[0][1]), (255,255,0,1), 2)\n",
        "          cv2.putText(overlay,\"1\",(pointSet[0][0], pointSet[0][1]),cv2.FONT_HERSHEY_DUPLEX, 0.5,(255, 255, 255), thickness = 2)\n",
        "          cv2.putText(overlay,\"2\",(pointSet[1][0], pointSet[1][1]),cv2.FONT_HERSHEY_DUPLEX, 0.5,(255, 255, 255), thickness = 2)\n",
        "          cv2.putText(overlay,\"3\",(pointSet[2][0], pointSet[2][1]),cv2.FONT_HERSHEY_DUPLEX, 0.5,(255, 255, 255), thickness = 2)\n",
        "          \n",
        "    #image = cv2.addWeighted(cv2.cvtColor(image, cv2.COLOR_RGB2RGBA), 1, overlay, 1,0)\n",
        "\n",
        "  return image,overlay,id_perimeter,templateMatch\n",
        "\n",
        "\n",
        "\n"
      ],
      "metadata": {
        "id": "xg_7tcCIIpBG"
      },
      "execution_count": 14,
      "outputs": []
    },
    {
      "cell_type": "markdown",
      "source": [
        "##Refactoring"
      ],
      "metadata": {
        "id": "bWAeanGQmEtZ"
      }
    },
    {
      "cell_type": "code",
      "source": [
        "\n",
        "def save(image ):\n",
        "  cv2.imwrite(f\"cam.jpg\", image)\n",
        "\n",
        "def getTemplateMatches(image, templatePath, searchThreshold = 0.8, templateKnown = ''):\n",
        "  \"\"\"Looks for template matches for each template in each rotation and returns all found matches.\n",
        "     If template is already known, search effort is minimised.\n",
        "     Returns templateMatches[rectangles, dimensions, rotation, templatePath]\"\"\"\n",
        "\n",
        "  templateMatches = []\n",
        "\n",
        "  for rotation in range(0,4):\n",
        "    templates = []\n",
        "\n",
        "    if templateKnown != '':\n",
        "      templates.append([cv2.imread(templateKnown,0), templateKnown])\n",
        "    else:\n",
        "      for tPath in glob.glob(templatePath + \"*.jpg\"): templates.append([cv2.imread(tPath,0), tPath])\n",
        "\n",
        "    for template in templates:\n",
        "      rectangles, dimensions, _ = shapeExtraction(image,template[0],searchThreshold)\n",
        "      if len(rectangles) >= 3:\n",
        "        templateMatches.append([rectangles, dimensions, rotation, template[1]])\n",
        "\n",
        "    image = cv2.rotate(image, cv2.cv2.ROTATE_90_CLOCKWISE)\n",
        "    \n",
        "    \n",
        "  return templateMatches\n",
        "\n",
        "\n",
        "def findFormation(templateMatches, distanceThreshold = 0.02, angleVariance = 2, debug = False):\n",
        "  \"\"\"\"Takes array with templateMatches and searches for correct formation within one templatePattern.\n",
        "      Retruns foundForations[point1,point2, rotation, tPath ]\"\"\"\n",
        "  S_DIST = 0.875 #Search distance for inset point\n",
        "  R_DIST = 1.1428571429 #Relative distance in width to edge based on height\n",
        "  HV_TOLERANCE  = 0.0625 #Horizontal and vertical tolerance for 'parallel' points relative to distance\n",
        "\n",
        "  foundFormation = []\n",
        "\n",
        "  for templateMatch in templateMatches:\n",
        "    rectangles, dimensions, rotation, tPath = templateMatch[:]\n",
        "\n",
        "    half = int(max(dimensions[:])/2)\n",
        "\n",
        "    midpoints = []\n",
        "    for rect in rectangles:\n",
        "      midpoints.append(get_midpoint(rect, (rect[0] + dimensions[0],rect[1] + dimensions[1])))\n",
        "      \n",
        "\n",
        "    formationMatch = []\n",
        "\n",
        "    #Create all possible point combinations with order important\n",
        "    combos = itertools.permutations(midpoints, 3)\n",
        "\n",
        "    for point1, point2, point3 in combos:\n",
        "      d1, d2 = dist(point1, point2), dist(point2, point3)\n",
        "      x1, y1 = point1[:]\n",
        "      x2, y2 = point2[:]\n",
        "      x3, y3 = point3[:]\n",
        "\n",
        "      if x3 > x2 and y1 > y2 and abs(y3-y2) < (d1 * HV_TOLERANCE) and abs(x2-x1) < (d1 * HV_TOLERANCE): \n",
        "        if  (S_DIST - distanceThreshold) * d1 < d2 < (S_DIST + distanceThreshold) * d1 and \\\n",
        "            (270 - angleVariance < getAngle(point1,point2,point3) < 270 + angleVariance \\\n",
        "            or 90 - angleVariance < getAngle(point1,point2,point3) < 90 + angleVariance): \n",
        "          formationMatch.append([point1,point2,point3])\n",
        "\n",
        "    formationMatch = np.asarray(formationMatch).astype(int)\n",
        "\n",
        "    for pointSet in formationMatch:\n",
        "      tlx, tly = pointSet[1][0] - half, pointSet[1][1] -half\n",
        "      brx, bry = pointSet[1][0] + (dist(pointSet[1], pointSet[2])* R_DIST).astype(int) + half, pointSet[0][1] + half\n",
        "\n",
        "      if debug:\n",
        "        foundFormation.append([(tlx, tly),(brx,bry), rotation, tPath, pointSet, half])\n",
        "      else:\n",
        "        foundFormation.append([(tlx, tly),(brx,bry), rotation, tPath ])\n",
        "          \n",
        "\n",
        "  return foundFormation\n",
        "\n",
        "\n",
        "\n",
        "def debugInfo(overlay, templateMatches, formation):\n",
        "  \"\"\"If debug is set to true, this will show an overlay of found matches and also the correct order of points\"\"\"\n",
        "\n",
        "  for match in templateMatches:\n",
        "      rectangles,dimensions,_,_ = match[:]\n",
        "      for rect in rectangles:\n",
        "        cv2.circle(overlay,tuple(np.asarray(get_midpoint(rect, (rect[0] + dimensions[0],rect[1] + dimensions[1])), dtype = int)), 10, (255,255,0,1),2)\n",
        "  \n",
        " \n",
        "  rotation, pointSet, half = formation[2], formation[4], formation[5]\n",
        "  \n",
        "  for mPoint in pointSet:\n",
        "    x,y = mPoint[:]\n",
        "    cv2.rectangle(overlay, (x-half, y-half)  , (x+half, y+half), (255,255,255,1), 2)\n",
        "\n",
        "  cv2.line(overlay,  (pointSet[0][0], pointSet[0][1]), (pointSet[1][0], pointSet[1][1]), (255,0,255,1), 2)\n",
        "  cv2.line(overlay,  (pointSet[1][0], pointSet[1][1]), (pointSet[2][0], pointSet[2][1]), (0,255,255,1), 2)\n",
        "  cv2.line(overlay,  (pointSet[2][0], pointSet[2][1]), (pointSet[0][0], pointSet[0][1]), (255,255,0,1), 2)\n",
        "\n",
        "\n",
        "def getKnID(image, templatePath, searchThreshold = 0.8, distanceThreshold = 0.02, angleVariance = 2, templateKnown = '', debug = False):\n",
        "  \"\"\"Processes given image to find the boundaries of the KnID, in order to further process the Code.\n",
        "     - templatePath       folder where the temoplates are stored\n",
        "     - searchThreshold    search margin for pattern matching, more matches are found with a lower Threshhold\n",
        "     - distanceThreshold  +/- distance of points to each other for formation\n",
        "     - angleVariance      deviation from 90° or 270° as set angle\n",
        "     - templateKnown      path to specific template if known\n",
        "     - debug              overlays image with all matches found and the matched pattern formation\n",
        "     Returns overlay(rgba), image with plotted area, image cropped to area of KnID\"\"\"\n",
        "\n",
        "  if max(image.shape[:]) > 800:\n",
        "    image = scaleTo(image,800)\n",
        "\n",
        "  overlay = np.zeros([image.shape[0],image.shape[1],4], dtype=np.uint8)\n",
        "  originalImage = image.copy()\n",
        "  imageCrop = []\n",
        "\n",
        "\n",
        "  templateMatches = getTemplateMatches(image, templatePath, searchThreshold, templateKnown)\n",
        "  foundFormation = findFormation(templateMatches, distanceThreshold, angleVariance, debug)\n",
        "\n",
        "\n",
        "\n",
        "  for formation in foundFormation:\n",
        "\n",
        "    rotation = formation[2]\n",
        "    for i in range(rotation): \n",
        "      image = cv2.rotate(image, cv2.cv2.ROTATE_90_CLOCKWISE)\n",
        "      overlay = cv2.rotate(overlay, cv2.cv2.ROTATE_90_CLOCKWISE)\n",
        "    \n",
        "    if debug:\n",
        "      debugInfo(overlay, templateMatches, formation)\n",
        "      point1, point2, rotation, path, _, _ = formation[:]\n",
        "    else:\n",
        "      point1, point2, rotation, path = formation[:]\n",
        "    \n",
        "    cv2.rectangle(overlay, point2, point1,(0,255,255,1), 3 )\n",
        "    imageCrop = image[point1[1]:point2[1], point1[0]:point2[0]]\n",
        "    save(imageCrop)\n",
        "\n",
        "  image_rgb = cv2.cvtColor(overlay, cv2.COLOR_RGBA2RGB)\n",
        "  image = cv2.addWeighted(image, 1, image_rgb, 1, 0)\n",
        "\n",
        "  return overlay, image, imageCrop\n",
        "\n"
      ],
      "metadata": {
        "id": "aui38mCIhxsO"
      },
      "execution_count": 15,
      "outputs": []
    },
    {
      "cell_type": "markdown",
      "source": [
        "##From Image"
      ],
      "metadata": {
        "id": "QtodiAvWujMd"
      }
    },
    {
      "cell_type": "code",
      "source": [
        "image = cv2.imread(\"/content/drive/MyDrive/Colab Notebooks/images/photo_frogpattern.jpg\")\n",
        "templatePath = \"/content/drive/MyDrive/Colab Notebooks/images/templates/\"\n",
        "\n",
        "overlay, image, _ = getKnID(image, templatePath, 0.65)#, templateKnown = '/content/drive/MyDrive/Colab Notebooks/images/templates/template_arrow.jpg')\n",
        "\n",
        "imshow(image)"
      ],
      "metadata": {
        "id": "gtpZsFzstVU5",
        "colab": {
          "base_uri": "https://localhost:8080/",
          "height": 248
        },
        "outputId": "b28a0866-05d7-44ae-9e60-782408cafa1d"
      },
      "execution_count": 16,
      "outputs": [
        {
          "output_type": "display_data",
          "data": {
            "text/plain": [
              "<Figure size 432x288 with 1 Axes>"
            ],
            "image/png": "[encoded data removed]"
          },
          "metadata": {
            "needs_background": "light"
          }
        }
      ]
    },
    {
      "cell_type": "markdown",
      "source": [
        "##From Webcam"
      ],
      "metadata": {
        "id": "3lXX14z0kNuY"
      }
    },
    {
      "cell_type": "code",
      "metadata": {
        "id": "TVnqCK17iRUu",
        "colab": {
          "base_uri": "https://localhost:8080/",
          "height": 17
        },
        "outputId": "a38629e0-b8a5-46b3-e3ee-6badaa0d4d00"
      },
      "source": [
        "templatePath = \"/content/drive/MyDrive/Colab Notebooks/images/templates/\"\n",
        "\n",
        "# start streaming video from webcam\n",
        "video_stream()\n",
        "# label for video\n",
        "label_html = 'Capturing...'\n",
        "# initialze bounding box to empty\n",
        "bbox = ''\n",
        "count = 0 \n",
        "while True:\n",
        "    js_reply = video_frame(label_html, bbox)\n",
        "    if not js_reply:\n",
        "        break\n",
        "\n",
        "    # convert JS response to OpenCV Image\n",
        "    img = js_to_image(js_reply[\"img\"])\n",
        "\n",
        "    #cv2.imwrite('image.jpg',img)\n",
        "   \n",
        "    #extract code\n",
        "    overlay,_ = process(img, templatePath, 0.7, debug=True)\n",
        "\n",
        "    overlay[:,:,3] = (overlay.max(axis = 2) > 0 ).astype(int) * 255\n",
        "\n",
        "    # convert overlay of bbox into bytes\n",
        "    bbox_bytes = bbox_to_bytes(overlay)\n",
        "\n",
        "    # update bbox so next frame gets new overlay\n",
        "    bbox = bbox_bytes"
      ],
      "execution_count": null,
      "outputs": [
        {
          "output_type": "display_data",
          "data": {
            "text/plain": [
              "<IPython.core.display.Javascript object>"
            ],
            "application/javascript": [
              "\n",
              "    var video;\n",
              "    var div = null;\n",
              "    var stream;\n",
              "    var captureCanvas;\n",
              "    var imgElement;\n",
              "    var labelElement;\n",
              "    \n",
              "    var pendingResolve = null;\n",
              "    var shutdown = false;\n",
              "    \n",
              "    function removeDom() {\n",
              "       stream.getVideoTracks()[0].stop();\n",
              "       video.remove();\n",
              "       div.remove();\n",
              "       video = null;\n",
              "       div = null;\n",
              "       stream = null;\n",
              "       imgElement = null;\n",
              "       captureCanvas = null;\n",
              "       labelElement = null;\n",
              "    }\n",
              "    \n",
              "    function onAnimationFrame() {\n",
              "      if (!shutdown) {\n",
              "        window.requestAnimationFrame(onAnimationFrame);\n",
              "      }\n",
              "      if (pendingResolve) {\n",
              "        var result = \"\";\n",
              "        if (!shutdown) {\n",
              "          captureCanvas.getContext('2d').drawImage(video, 0, 0, 640, 480);\n",
              "          result = captureCanvas.toDataURL('image/jpeg', 0.8)\n",
              "        }\n",
              "        var lp = pendingResolve;\n",
              "        pendingResolve = null;\n",
              "        lp(result);\n",
              "      }\n",
              "    }\n",
              "    \n",
              "    async function createDom() {\n",
              "      if (div !== null) {\n",
              "        return stream;\n",
              "      }\n",
              "\n",
              "      div = document.createElement('div');\n",
              "      div.style.border = '2px solid black';\n",
              "      div.style.padding = '3px';\n",
              "      div.style.width = '100%';\n",
              "      div.style.maxWidth = '600px';\n",
              "      document.body.appendChild(div);\n",
              "      \n",
              "      const modelOut = document.createElement('div');\n",
              "      modelOut.innerHTML = \"<span>Status:</span>\";\n",
              "      labelElement = document.createElement('span');\n",
              "      labelElement.innerText = 'No data';\n",
              "      labelElement.style.fontWeight = 'bold';\n",
              "      modelOut.appendChild(labelElement);\n",
              "      div.appendChild(modelOut);\n",
              "           \n",
              "      video = document.createElement('video');\n",
              "      video.style.display = 'block';\n",
              "      video.width = div.clientWidth - 6;\n",
              "      video.setAttribute('playsinline', '');\n",
              "      video.onclick = () => { shutdown = true; };\n",
              "      stream = await navigator.mediaDevices.getUserMedia(\n",
              "          {video: { facingMode: \"environment\"}});\n",
              "      div.appendChild(video);\n",
              "\n",
              "      imgElement = document.createElement('img');\n",
              "      imgElement.style.position = 'absolute';\n",
              "      imgElement.style.zIndex = 1;\n",
              "      imgElement.onclick = () => { shutdown = true; };\n",
              "      div.appendChild(imgElement);\n",
              "      \n",
              "      const instruction = document.createElement('div');\n",
              "      instruction.innerHTML = \n",
              "          '<span style=\"color: red; font-weight: bold;\">' +\n",
              "          'When finished, click here or on the video to stop this demo</span>';\n",
              "      div.appendChild(instruction);\n",
              "      instruction.onclick = () => { shutdown = true; };\n",
              "      \n",
              "      video.srcObject = stream;\n",
              "      await video.play();\n",
              "\n",
              "      captureCanvas = document.createElement('canvas');\n",
              "      captureCanvas.width = 640; //video.videoWidth;\n",
              "      captureCanvas.height = 480; //video.videoHeight;\n",
              "      window.requestAnimationFrame(onAnimationFrame);\n",
              "      \n",
              "      return stream;\n",
              "    }\n",
              "    async function stream_frame(label, imgData) {\n",
              "      if (shutdown) {\n",
              "        removeDom();\n",
              "        shutdown = false;\n",
              "        return '';\n",
              "      }\n",
              "\n",
              "      var preCreate = Date.now();\n",
              "      stream = await createDom();\n",
              "      \n",
              "      var preShow = Date.now();\n",
              "      if (label != \"\") {\n",
              "        labelElement.innerHTML = label;\n",
              "      }\n",
              "            \n",
              "      if (imgData != \"\") {\n",
              "        var videoRect = video.getClientRects()[0];\n",
              "        imgElement.style.top = videoRect.top + \"px\";\n",
              "        imgElement.style.left = videoRect.left + \"px\";\n",
              "        imgElement.style.width = videoRect.width + \"px\";\n",
              "        imgElement.style.height = videoRect.height + \"px\";\n",
              "        imgElement.src = imgData;\n",
              "      }\n",
              "      \n",
              "      var preCapture = Date.now();\n",
              "      var result = await new Promise(function(resolve, reject) {\n",
              "        pendingResolve = resolve;\n",
              "      });\n",
              "      shutdown = false;\n",
              "      \n",
              "      return {'create': preShow - preCreate, \n",
              "              'show': preCapture - preShow, \n",
              "              'capture': Date.now() - preCapture,\n",
              "              'img': result};\n",
              "    }\n",
              "    "
            ]
          },
          "metadata": {}
        }
      ]
    },
    {
      "cell_type": "code",
      "source": [
        ""
      ],
      "metadata": {
        "id": "sQGXw4WLuwxk"
      },
      "execution_count": null,
      "outputs": []
    },
    {
      "cell_type": "markdown",
      "source": [
        "##Color Matching"
      ],
      "metadata": {
        "id": "FzWsMQYjtr-9"
      }
    },
    {
      "cell_type": "code",
      "source": [
        "template = cv2.imread('/content/drive/MyDrive/Colab Notebooks/images/templates/template_arrow.jpg',0)\n",
        "image = cv2.imread('/content/drive/MyDrive/Colab Notebooks/images/9x9_frog.jpg')\n",
        "\n",
        "\n",
        "rectangles, dimensions, output = shapeExtraction(image, template,0.8)\n",
        "\n",
        "\n",
        "for rect in rectangles:\n",
        "  x,y = rect[:]\n",
        "  w,h = dimensions[:]\n",
        "  cropped = image[x:x+w,y:y+h]\n",
        "  img = cropped.reshape((cropped.shape[1]*cropped.shape[0],3))\n",
        "  percent, color = clusterColors(img,3)\n",
        "\n",
        "  print(color[percent.index(max(percent))] * 255)\n",
        "\n",
        "img = cv2.cvtColor(image, cv2.COLOR_RGB2RGBA)\n",
        "\n",
        "imshow(cv2.addWeighted(img, 1.0, output, 1.0,0))"
      ],
      "metadata": {
        "id": "K6R1dQcft-8_"
      },
      "execution_count": null,
      "outputs": []
    },
    {
      "cell_type": "code",
      "source": [
        "def sortRectColor(inputRectangles, dimensions, image):\n",
        "\n",
        "  rectColors = []\n",
        "  rectangles = []\n",
        "\n",
        "  for rect in inputRectangles:\n",
        "    x,y = rect[:]\n",
        "    w,h = dimensions[:]\n",
        "    cropped = image[y:y+h, x:x+w]\n",
        "    reshaped = cropped.reshape((cropped.shape[1]*cropped.shape[0],3))\n",
        "    percent, color = clusterColors(reshaped,2)\n",
        "    result = np.where(color*255 >= 20)\n",
        "\n",
        "    colorNB = []\n",
        "    for coord in list(zip(result[0], result[1])):\n",
        "      colorNB.append(color[coord] * 255)\n",
        "\n",
        "    #cv2.rectangle(image, (x,y), (x+w,y+h), np.array(colorNB), 2 )\n",
        "\n",
        "    rectColors.append(colorNB)\n",
        "    rectangles.append(rect)\n",
        "\n",
        "\n",
        "  #imshow(image)\n",
        "  #print(rectColors)\n",
        "  return rectColors, rectangles"
      ],
      "metadata": {
        "id": "hq1IJjz5dRgV"
      },
      "execution_count": 203,
      "outputs": []
    },
    {
      "cell_type": "code",
      "source": [
        "rectColors, rectangles = sortRectColor(rectangles, dimensions, image)\n",
        "\n",
        "percent, colors = clusterColors(rectColors,4)\n",
        "\n",
        "for color in colors:\n",
        "  for rectColor in rectColors:\n",
        "    rectColor = np.array(rectColor)/255\n",
        "    if (colorDist(color, rectColor) * 1000) < 1:\n",
        "      res = np.where(colors == color)\n",
        "      for coord in list(zip(res[0], res[1])):\n",
        "        print(coord)\n"
      ],
      "metadata": {
        "colab": {
          "base_uri": "https://localhost:8080/"
        },
        "id": "qntLwqs-rwG_",
        "outputId": "a9bb51df-f6f8-46f8-fcdf-052b98d2352a"
      },
      "execution_count": 217,
      "outputs": [
        {
          "output_type": "stream",
          "name": "stdout",
          "text": [
            "(0, 0)\n",
            "(0, 1)\n",
            "(0, 2)\n",
            "(0, 0)\n",
            "(0, 1)\n",
            "(0, 2)\n",
            "(1, 0)\n",
            "(1, 1)\n",
            "(1, 2)\n",
            "(1, 0)\n",
            "(1, 1)\n",
            "(1, 2)\n",
            "(1, 0)\n",
            "(1, 1)\n",
            "(1, 2)\n",
            "(1, 0)\n",
            "(1, 1)\n",
            "(1, 2)\n",
            "(1, 0)\n",
            "(1, 1)\n",
            "(1, 2)\n",
            "(1, 0)\n",
            "(1, 1)\n",
            "(1, 2)\n",
            "(1, 0)\n",
            "(1, 1)\n",
            "(1, 2)\n",
            "(2, 0)\n",
            "(2, 1)\n",
            "(2, 2)\n",
            "(2, 0)\n",
            "(2, 1)\n",
            "(2, 2)\n",
            "(2, 0)\n",
            "(2, 1)\n",
            "(2, 2)\n",
            "(2, 0)\n",
            "(2, 1)\n",
            "(2, 2)\n",
            "(2, 0)\n",
            "(2, 1)\n",
            "(2, 2)\n",
            "(2, 0)\n",
            "(2, 1)\n",
            "(2, 2)\n",
            "(2, 0)\n",
            "(2, 1)\n",
            "(2, 2)\n",
            "(3, 0)\n",
            "(3, 1)\n",
            "(3, 2)\n",
            "(3, 0)\n",
            "(3, 1)\n",
            "(3, 2)\n"
          ]
        }
      ]
    },
    {
      "cell_type": "code",
      "source": [
        "import matplotlib.pyplot as plt\n",
        "\n",
        "for meanColor in colorMeans:\n",
        "  for color in colorMatch:\n",
        "    if colorDist(color, meanColor)*1000 < 1:\n",
        "      color = color/255\n",
        "      plt.imshow([[(color[0], color[1], color[2])]])\n",
        "      plt.show()\n",
        "\n",
        "'''\n",
        "i= 5\n",
        "for color in colorMatch:\n",
        "  print(colorDist(colorMeans[i],color)*1000)\n",
        "  color = color/255\n",
        "  plt.imshow([[(color[0], color[1], color[2])]])\n",
        "  plt.show()\n",
        "  plt.imshow([[(colorMeans[i,0], colorMeans[i,1], colorMeans[i,2])]])\n",
        "  plt.show()\n",
        "'''\n"
      ],
      "metadata": {
        "id": "AwOblUHZsQcE",
        "colab": {
          "base_uri": "https://localhost:8080/",
          "height": 1000
        },
        "outputId": "36cadb6d-87b1-49f9-ec1c-b88674ed95a0"
      },
      "execution_count": 129,
      "outputs": [
        {
          "output_type": "display_data",
          "data": {
            "text/plain": [
              "<Figure size 432x288 with 1 Axes>"
            ],
            "image/png": "[encoded data removed]"
          },
          "metadata": {
            "needs_background": "light"
          }
        },
        {
          "output_type": "display_data",
          "data": {
            "text/plain": [
              "<Figure size 432x288 with 1 Axes>"
            ],
            "image/png": "[encoded data removed]"
          },
          "metadata": {
            "needs_background": "light"
          }
        },
        {
          "output_type": "display_data",
          "data": {
            "text/plain": [
              "<Figure size 432x288 with 1 Axes>"
            ],
            "image/png": "[encoded data removed]"
          },
          "metadata": {
            "needs_background": "light"
          }
        },
        {
          "output_type": "display_data",
          "data": {
            "text/plain": [
              "<Figure size 432x288 with 1 Axes>"
            ],
            "image/png": "[encoded data removed]"
          },
          "metadata": {
            "needs_background": "light"
          }
        },
        {
          "output_type": "display_data",
          "data": {
            "text/plain": [
              "<Figure size 432x288 with 1 Axes>"
            ],
            "image/png": "[encoded data removed]"
          },
          "metadata": {
            "needs_background": "light"
          }
        },
        {
          "output_type": "display_data",
          "data": {
            "text/plain": [
              "<Figure size 432x288 with 1 Axes>"
            ],
            "image/png": "[encoded data removed]"
          },
          "metadata": {
            "needs_background": "light"
          }
        },
        {
          "output_type": "display_data",
          "data": {
            "text/plain": [
              "<Figure size 432x288 with 1 Axes>"
            ],
            "image/png": "[encoded data removed]"
          },
          "metadata": {
            "needs_background": "light"
          }
        },
        {
          "output_type": "display_data",
          "data": {
            "text/plain": [
              "<Figure size 432x288 with 1 Axes>"
            ],
            "image/png": "[encoded data removed]"
          },
          "metadata": {
            "needs_background": "light"
          }
        },
        {
          "output_type": "display_data",
          "data": {
            "text/plain": [
              "<Figure size 432x288 with 1 Axes>"
            ],
            "image/png": "[encoded data removed]"
          },
          "metadata": {
            "needs_background": "light"
          }
        },
        {
          "output_type": "display_data",
          "data": {
            "text/plain": [
              "<Figure size 432x288 with 1 Axes>"
            ],
            "image/png": "[encoded data removed]"
          },
          "metadata": {
            "needs_background": "light"
          }
        },
        {
          "output_type": "display_data",
          "data": {
            "text/plain": [
              "<Figure size 432x288 with 1 Axes>"
            ],
            "image/png": "[encoded data removed]"
          },
          "metadata": {
            "needs_background": "light"
          }
        },
        {
          "output_type": "display_data",
          "data": {
            "text/plain": [
              "<Figure size 432x288 with 1 Axes>"
            ],
            "image/png": "[encoded data removed]"
          },
          "metadata": {
            "needs_background": "light"
          }
        },
        {
          "output_type": "display_data",
          "data": {
            "text/plain": [
              "<Figure size 432x288 with 1 Axes>"
            ],
            "image/png": "[encoded data removed]"
          },
          "metadata": {
            "needs_background": "light"
          }
        },
        {
          "output_type": "display_data",
          "data": {
            "text/plain": [
              "<Figure size 432x288 with 1 Axes>"
            ],
            "image/png": "[encoded data removed]"
          },
          "metadata": {
            "needs_background": "light"
          }
        },
        {
          "output_type": "display_data",
          "data": {
            "text/plain": [
              "<Figure size 432x288 with 1 Axes>"
            ],
            "image/png": "[encoded data removed]"
          },
          "metadata": {
            "needs_background": "light"
          }
        },
        {
          "output_type": "display_data",
          "data": {
            "text/plain": [
              "<Figure size 432x288 with 1 Axes>"
            ],
            "image/png": "[encoded data removed]"
          },
          "metadata": {
            "needs_background": "light"
          }
        },
        {
          "output_type": "display_data",
          "data": {
            "text/plain": [
              "<Figure size 432x288 with 1 Axes>"
            ],
            "image/png": "[encoded data removed]"
          },
          "metadata": {
            "needs_background": "light"
          }
        },
        {
          "output_type": "display_data",
          "data": {
            "text/plain": [
              "<Figure size 432x288 with 1 Axes>"
            ],
            "image/png": "[encoded data removed]"
          },
          "metadata": {
            "needs_background": "light"
          }
        },
        {
          "output_type": "display_data",
          "data": {
            "text/plain": [
              "<Figure size 432x288 with 1 Axes>"
            ],
            "image/png": "[encoded data removed]"
          },
          "metadata": {
            "needs_background": "light"
          }
        },
        {
          "output_type": "display_data",
          "data": {
            "text/plain": [
              "<Figure size 432x288 with 1 Axes>"
            ],
            "image/png": "[encoded data removed]"
          },
          "metadata": {
            "needs_background": "light"
          }
        },
        {
          "output_type": "display_data",
          "data": {
            "text/plain": [
              "<Figure size 432x288 with 1 Axes>"
            ],
            "image/png": "[encoded data removed]"
          },
          "metadata": {
            "needs_background": "light"
          }
        },
        {
          "output_type": "display_data",
          "data": {
            "text/plain": [
              "<Figure size 432x288 with 1 Axes>"
            ],
            "image/png": "[encoded data removed]"
          },
          "metadata": {
            "needs_background": "light"
          }
        },
        {
          "output_type": "display_data",
          "data": {
            "text/plain": [
              "<Figure size 432x288 with 1 Axes>"
            ],
            "image/png": "[encoded data removed]"
          },
          "metadata": {
            "needs_background": "light"
          }
        },
        {
          "output_type": "display_data",
          "data": {
            "text/plain": [
              "<Figure size 432x288 with 1 Axes>"
            ],
            "image/png": "[encoded data removed]"
          },
          "metadata": {
            "needs_background": "light"
          }
        },
        {
          "output_type": "display_data",
          "data": {
            "text/plain": [
              "<Figure size 432x288 with 1 Axes>"
            ],
            "image/png": "[encoded data removed]"
          },
          "metadata": {
            "needs_background": "light"
          }
        },
        {
          "output_type": "display_data",
          "data": {
            "text/plain": [
              "<Figure size 432x288 with 1 Axes>"
            ],
            "image/png": "[encoded data removed]"
          },
          "metadata": {
            "needs_background": "light"
          }
        },
        {
          "output_type": "display_data",
          "data": {
            "text/plain": [
              "<Figure size 432x288 with 1 Axes>"
            ],
            "image/png": "[encoded data removed]"
          },
          "metadata": {
            "needs_background": "light"
          }
        },
        {
          "output_type": "display_data",
          "data": {
            "text/plain": [
              "<Figure size 432x288 with 1 Axes>"
            ],
            "image/png": "[encoded data removed]"
          },
          "metadata": {
            "needs_background": "light"
          }
        },
        {
          "output_type": "display_data",
          "data": {
            "text/plain": [
              "<Figure size 432x288 with 1 Axes>"
            ],
            "image/png": "[encoded data removed]"
          },
          "metadata": {
            "needs_background": "light"
          }
        },
        {
          "output_type": "display_data",
          "data": {
            "text/plain": [
              "<Figure size 432x288 with 1 Axes>"
            ],
            "image/png": "[encoded data removed]"
          },
          "metadata": {
            "needs_background": "light"
          }
        },
        {
          "output_type": "display_data",
          "data": {
            "text/plain": [
              "<Figure size 432x288 with 1 Axes>"
            ],
            "image/png": "[encoded data removed]"
          },
          "metadata": {
            "needs_background": "light"
          }
        },
        {
          "output_type": "display_data",
          "data": {
            "text/plain": [
              "<Figure size 432x288 with 1 Axes>"
            ],
            "image/png": "[encoded data removed]"
          },
          "metadata": {
            "needs_background": "light"
          }
        },
        {
          "output_type": "display_data",
          "data": {
            "text/plain": [
              "<Figure size 432x288 with 1 Axes>"
            ],
            "image/png": "[encoded data removed]"
          },
          "metadata": {
            "needs_background": "light"
          }
        },
        {
          "output_type": "display_data",
          "data": {
            "text/plain": [
              "<Figure size 432x288 with 1 Axes>"
            ],
            "image/png": "[encoded data removed]"
          },
          "metadata": {
            "needs_background": "light"
          }
        },
        {
          "output_type": "display_data",
          "data": {
            "text/plain": [
              "<Figure size 432x288 with 1 Axes>"
            ],
            "image/png": "[encoded data removed]"
          },
          "metadata": {
            "needs_background": "light"
          }
        },
        {
          "output_type": "display_data",
          "data": {
            "text/plain": [
              "<Figure size 432x288 with 1 Axes>"
            ],
            "image/png": "[encoded data removed]"
          },
          "metadata": {
            "needs_background": "light"
          }
        },
        {
          "output_type": "display_data",
          "data": {
            "text/plain": [
              "<Figure size 432x288 with 1 Axes>"
            ],
            "image/png": "[encoded data removed]"
          },
          "metadata": {
            "needs_background": "light"
          }
        },
        {
          "output_type": "display_data",
          "data": {
            "text/plain": [
              "<Figure size 432x288 with 1 Axes>"
            ],
            "image/png": "[encoded data removed]"
          },
          "metadata": {
            "needs_background": "light"
          }
        },
        {
          "output_type": "display_data",
          "data": {
            "text/plain": [
              "<Figure size 432x288 with 1 Axes>"
            ],
            "image/png": "[encoded data removed]"
          },
          "metadata": {
            "needs_background": "light"
          }
        },
        {
          "output_type": "display_data",
          "data": {
            "text/plain": [
              "<Figure size 432x288 with 1 Axes>"
            ],
            "image/png": "[encoded data removed]"
          },
          "metadata": {
            "needs_background": "light"
          }
        },
        {
          "output_type": "display_data",
          "data": {
            "text/plain": [
              "<Figure size 432x288 with 1 Axes>"
            ],
            "image/png": "[encoded data removed]"
          },
          "metadata": {
            "needs_background": "light"
          }
        },
        {
          "output_type": "display_data",
          "data": {
            "text/plain": [
              "<Figure size 432x288 with 1 Axes>"
            ],
            "image/png": "[encoded data removed]"
          },
          "metadata": {
            "needs_background": "light"
          }
        },
        {
          "output_type": "display_data",
          "data": {
            "text/plain": [
              "<Figure size 432x288 with 1 Axes>"
            ],
            "image/png": "[encoded data removed]"
          },
          "metadata": {
            "needs_background": "light"
          }
        },
        {
          "output_type": "display_data",
          "data": {
            "text/plain": [
              "<Figure size 432x288 with 1 Axes>"
            ],
            "image/png": "[encoded data removed]"
          },
          "metadata": {
            "needs_background": "light"
          }
        },
        {
          "output_type": "display_data",
          "data": {
            "text/plain": [
              "<Figure size 432x288 with 1 Axes>"
            ],
            "image/png": "[encoded data removed]"
          },
          "metadata": {
            "needs_background": "light"
          }
        },
        {
          "output_type": "display_data",
          "data": {
            "text/plain": [
              "<Figure size 432x288 with 1 Axes>"
            ],
            "image/png": "[encoded data removed]"
          },
          "metadata": {
            "needs_background": "light"
          }
        },
        {
          "output_type": "display_data",
          "data": {
            "text/plain": [
              "<Figure size 432x288 with 1 Axes>"
            ],
            "image/png": "[encoded data removed]"
          },
          "metadata": {
            "needs_background": "light"
          }
        },
        {
          "output_type": "display_data",
          "data": {
            "text/plain": [
              "<Figure size 432x288 with 1 Axes>"
            ],
            "image/png": "[encoded data removed]"
          },
          "metadata": {
            "needs_background": "light"
          }
        },
        {
          "output_type": "display_data",
          "data": {
            "text/plain": [
              "<Figure size 432x288 with 1 Axes>"
            ],
            "image/png": "[encoded data removed]"
          },
          "metadata": {
            "needs_background": "light"
          }
        },
        {
          "output_type": "display_data",
          "data": {
            "text/plain": [
              "<Figure size 432x288 with 1 Axes>"
            ],
            "image/png": "[encoded data removed]"
          },
          "metadata": {
            "needs_background": "light"
          }
        },
        {
          "output_type": "display_data",
          "data": {
            "text/plain": [
              "<Figure size 432x288 with 1 Axes>"
            ],
            "image/png": "[encoded data removed]"
          },
          "metadata": {
            "needs_background": "light"
          }
        },
        {
          "output_type": "display_data",
          "data": {
            "text/plain": [
              "<Figure size 432x288 with 1 Axes>"
            ],
            "image/png": "[encoded data removed]"
          },
          "metadata": {
            "needs_background": "light"
          }
        },
        {
          "output_type": "display_data",
          "data": {
            "text/plain": [
              "<Figure size 432x288 with 1 Axes>"
            ],
            "image/png": "[encoded data removed]"
          },
          "metadata": {
            "needs_background": "light"
          }
        },
        {
          "output_type": "display_data",
          "data": {
            "text/plain": [
              "<Figure size 432x288 with 1 Axes>"
            ],
            "image/png": "[encoded data removed]"
          },
          "metadata": {
            "needs_background": "light"
          }
        },
        {
          "output_type": "display_data",
          "data": {
            "text/plain": [
              "<Figure size 432x288 with 1 Axes>"
            ],
            "image/png": "[encoded data removed]"
          },
          "metadata": {
            "needs_background": "light"
          }
        },
        {
          "output_type": "display_data",
          "data": {
            "text/plain": [
              "<Figure size 432x288 with 1 Axes>"
            ],
            "image/png": "[encoded data removed]"
          },
          "metadata": {
            "needs_background": "light"
          }
        },
        {
          "output_type": "display_data",
          "data": {
            "text/plain": [
              "<Figure size 432x288 with 1 Axes>"
            ],
            "image/png": "[encoded data removed]"
          },
          "metadata": {
            "needs_background": "light"
          }
        },
        {
          "output_type": "display_data",
          "data": {
            "text/plain": [
              "<Figure size 432x288 with 1 Axes>"
            ],
            "image/png": "[encoded data removed]"
          },
          "metadata": {
            "needs_background": "light"
          }
        },
        {
          "output_type": "execute_result",
          "data": {
            "text/plain": [
              "'\\ni= 5\\nfor color in colorMatch:\\n  print(colorDist(colorMeans[i],color)*1000)\\n  color = color/255\\n  plt.imshow([[(color[0], color[1], color[2])]])\\n  plt.show()\\n  plt.imshow([[(colorMeans[i,0], colorMeans[i,1], colorMeans[i,2])]])\\n  plt.show()\\n'"
            ],
            "application/vnd.google.colaboratory.intrinsic+json": {
              "type": "string"
            }
          },
          "metadata": {},
          "execution_count": 129
        }
      ]
    }
  ]
}