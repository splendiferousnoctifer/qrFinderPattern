{
  "nbformat": 4,
  "nbformat_minor": 0,
  "metadata": {
    "colab": {
      "name": "qr finder pattern.ipynb",
      "provenance": [],
      "collapsed_sections": [
        "L6pCmkJrUC9g",
        "jzRKNe1iSlNW",
        "MaZIOR4WaT64",
        "I_xcqQZKYzAj",
        "dQDwvcpmkOxI",
        "F_rQiq1yr6vQ",
        "NChNhm3DWy91"
      ]
    },
    "kernelspec": {
      "name": "python3",
      "display_name": "Python 3"
    }
  },
  "cells": [
    {
      "cell_type": "markdown",
      "metadata": {
        "id": "L6pCmkJrUC9g"
      },
      "source": [
        "# Setup\n"
      ]
    },
    {
      "cell_type": "code",
      "source": [
        "from google.colab import drive\n",
        "drive.mount('/content/drive')"
      ],
      "metadata": {
        "id": "F59PEOUwXndS",
        "colab": {
          "base_uri": "https://localhost:8080/"
        },
        "outputId": "087ff9e8-a346-4f2e-f8d6-1a76a475a4bc"
      },
      "execution_count": 3,
      "outputs": [
        {
          "output_type": "stream",
          "name": "stdout",
          "text": [
            "Mounted at /content/drive\n"
          ]
        }
      ]
    },
    {
      "cell_type": "code",
      "metadata": {
        "id": "Fj9YcAnsT4B_",
        "colab": {
          "base_uri": "https://localhost:8080/"
        },
        "outputId": "ad189037-c9bd-48a7-a1f9-8c28bec4f132"
      },
      "source": [
        "# import dependencies\n",
        "!pip install imutils\n",
        "from IPython.display import display, Javascript, Image\n",
        "from google.colab.output import eval_js\n",
        "from google.colab.patches import cv2_imshow\n",
        "from base64 import b64decode, b64encode\n",
        "import cv2\n",
        "import matplotlib.pyplot as plt\n",
        "import numpy as np\n",
        "import PIL\n",
        "import io\n",
        "import html\n",
        "import time\n",
        "import math\n",
        "import imutils\n",
        "import itertools\n",
        "from sklearn.cluster import KMeans"
      ],
      "execution_count": 4,
      "outputs": [
        {
          "output_type": "stream",
          "name": "stdout",
          "text": [
            "Looking in indexes: https://pypi.org/simple, https://us-python.pkg.dev/colab-wheels/public/simple/\n",
            "Requirement already satisfied: imutils in /usr/local/lib/python3.7/dist-packages (0.5.4)\n"
          ]
        }
      ]
    },
    {
      "cell_type": "code",
      "metadata": {
        "id": "09b_0FAnUa9y"
      },
      "source": [
        "def imshow(image, *args, **kwargs):\n",
        "    \"\"\"A replacement for cv2.imshow() for use in Jupyter notebooks using matplotlib.\n",
        "\n",
        "        Args:\n",
        "          image : np.ndarray. shape (N, M) or (N, M, 1) is an NxM grayscale image. shape\n",
        "            (N, M, 3) is an NxM BGR color image. \n",
        "    \"\"\"\n",
        "    if len(image.shape) == 3:\n",
        "      # Height, width, channels\n",
        "      # Assume BGR, do a conversion  \n",
        "      image = cv2.cvtColor(image, cv2.COLOR_BGR2RGB)\n",
        "\n",
        "    # Draw the image\n",
        "    plt.imshow(image, *args, **kwargs)\n",
        "    # We'll also disable drawing the axes and tick marks in the plot, since it's actually an image\n",
        "    plt.axis('off')\n",
        "    # Make sure it outputs\n",
        "    # plt.show()\n",
        "    \n",
        "# function to convert the JavaScript object into an OpenCV image\n",
        "def js_to_image(js_reply):\n",
        "  \"\"\"\n",
        "  Params:\n",
        "          js_reply: JavaScript object containing image from webcam\n",
        "  Returns:\n",
        "          img: OpenCV BGR image\n",
        "  \"\"\"\n",
        "  # decode base64 image\n",
        "  image_bytes = b64decode(js_reply.split(',')[1])\n",
        "  # convert bytes to numpy array\n",
        "  jpg_as_np = np.frombuffer(image_bytes, dtype=np.uint8)\n",
        "  # decode numpy array into OpenCV BGR image\n",
        "  img = cv2.imdecode(jpg_as_np, flags=1)\n",
        "\n",
        "  return img\n",
        "\n",
        "# function to convert OpenCV Rectangle bounding box image into base64 byte string to be overlayed on video stream\n",
        "def bbox_to_bytes(bbox_array):\n",
        "  \"\"\"\n",
        "  Params:\n",
        "          bbox_array: Numpy array (pixels) containing rectangle to overlay on video stream.\n",
        "  Returns:\n",
        "        bytes: Base64 image byte string\n",
        "  \"\"\"\n",
        "  # convert array into PIL image\n",
        "  bbox_PIL = PIL.Image.fromarray(bbox_array, 'RGBA')\n",
        "  iobuf = io.BytesIO()\n",
        "  # format bbox into png for return\n",
        "  bbox_PIL.save(iobuf, format='png')\n",
        "  # format return string\n",
        "  bbox_bytes = 'data:image/png;base64,{}'.format((str(b64encode(iobuf.getvalue()), 'utf-8')))\n",
        "\n",
        "  return bbox_bytes"
      ],
      "execution_count": 5,
      "outputs": []
    },
    {
      "cell_type": "markdown",
      "metadata": {
        "id": "jzRKNe1iSlNW"
      },
      "source": [
        "# QR Finder Patterns from Video\n"
      ]
    },
    {
      "cell_type": "markdown",
      "metadata": {
        "id": "MaZIOR4WaT64"
      },
      "source": [
        "## QR Finder Pattern extractor\n"
      ]
    },
    {
      "cell_type": "code",
      "source": [
        "BLUR_VALUE = 3\n",
        "SQUARE_TOLERANCE = 0.15\n",
        "AREA_TOLERANCE = 0.15\n",
        "DISTANCE_TOLERANCE = 0.25\n",
        "WARP_DIM = 300\n",
        "SMALL_DIM = 29\n",
        "\n",
        "\n",
        "def count_children(hierarchy, parent, inner=False):\n",
        "    if parent == -1:\n",
        "        return 0\n",
        "    elif not inner:\n",
        "        return count_children(hierarchy, hierarchy[parent][2], True)\n",
        "    return 1 + count_children(hierarchy, hierarchy[parent][0], True) + count_children(hierarchy, hierarchy[parent][2], True)\n",
        "\n",
        "\n",
        "def has_square_parent(hierarchy, squares, parent):\n",
        "    if hierarchy[parent][3] == -1:\n",
        "        return False\n",
        "    if hierarchy[parent][3] in squares:\n",
        "        return True\n",
        "    return has_square_parent(hierarchy, squares, hierarchy[parent][3])\n",
        "\n",
        "\n",
        "def get_center(c):\n",
        "    m = cv2.moments(c)\n",
        "    return [int(m[\"m10\"] / m[\"m00\"]), int(m[\"m01\"] / m[\"m00\"])]\n",
        "\n",
        "\n",
        "def get_angle(p1, p2):\n",
        "    x_diff = p2[0] - p1[0]\n",
        "    y_diff = p2[1] - p1[1]\n",
        "    return math.degrees(math.atan2(y_diff, x_diff))\n",
        "\n",
        "\n",
        "def get_midpoint(p1, p2):\n",
        "    return [(p1[0] + p2[0]) / 2, (p1[1] + p2[1]) / 2]\n",
        "\n",
        "\n",
        "def get_farthest_points(contour, center):\n",
        "    distances = []\n",
        "    distances_to_points = {}\n",
        "    for point in contour:\n",
        "        point = point[0]\n",
        "        d = math.hypot(point[0] - center[0], point[1] - center[1])\n",
        "        distances.append(d)\n",
        "        distances_to_points[d] = point\n",
        "    distances = sorted(distances)\n",
        "    return [distances_to_points[distances[-1]], distances_to_points[distances[-2]]]\n",
        "\n",
        "\n",
        "def line_intersection(line1, line2):\n",
        "    x_diff = (line1[0][0] - line1[1][0], line2[0][0] - line2[1][0])\n",
        "    y_diff = (line1[0][1] - line1[1][1], line2[0][1] - line2[1][1])\n",
        "\n",
        "    def det(a, b):\n",
        "        return a[0] * b[1] - a[1] * b[0]\n",
        "\n",
        "    div = det(x_diff, y_diff)\n",
        "    if div == 0:\n",
        "        return [-1, -1]\n",
        "\n",
        "    d = (det(*line1), det(*line2))\n",
        "    x = det(d, x_diff) / div\n",
        "    y = det(d, y_diff) / div\n",
        "    return [int(x), int(y)]\n",
        "\n",
        "\n",
        "def extend(a, b, length, int_represent=False):\n",
        "    length_ab = math.sqrt((a[0] - b[0]) ** 2 + (a[1] - b[1]) ** 2)\n",
        "    if length_ab * length <= 0:\n",
        "        return b\n",
        "    result = [b[0] + (b[0] - a[0]) / length_ab * length, b[1] + (b[1] - a[1]) / length_ab * length]\n",
        "    if int_represent:\n",
        "        return [int(result[0]), int(result[1])]\n",
        "    else:\n",
        "        return result\n",
        "\n",
        "\n",
        "def extract(frame, debug=False):\n",
        "    #output = frame.copy()\n",
        "    output = np.zeros([frame.shape[0],frame.shape[1],4], dtype=np.uint8)\n",
        "\n",
        "    # Remove noise and unnecessary contours from frame\n",
        "    gray = cv2.cvtColor(frame, cv2.COLOR_BGR2GRAY)\n",
        "    gray = cv2.bilateralFilter(gray, 11, 17, 17)\n",
        "    gray = cv2.GaussianBlur(gray, (BLUR_VALUE, BLUR_VALUE), 0)\n",
        "    edged = cv2.Canny(gray, 30, 200)\n",
        "\n",
        "    \n",
        "\n",
        "    contours, hierarchy = cv2.findContours(edged.copy(), cv2.RETR_TREE, cv2.CHAIN_APPROX_SIMPLE)\n",
        "\n",
        "    squares = []\n",
        "    square_indices = []\n",
        "\n",
        "    i = 0\n",
        "    for c in contours:\n",
        "        # Approximate the contour\n",
        "        peri = cv2.arcLength(c, True)\n",
        "        area = cv2.contourArea(c)\n",
        "        approx = cv2.approxPolyDP(c, 0.03 * peri, True)\n",
        "\n",
        "        # Find all quadrilateral contours\n",
        "        if len(approx) == 4:\n",
        "            # Determine if quadrilateral is a square within SQUARE_TOLERANCE\n",
        "            if area > 25 and 1 - SQUARE_TOLERANCE < math.fabs((peri / 4) ** 2) / area < 1 + SQUARE_TOLERANCE and count_children(hierarchy[0], i) >= 2 and has_square_parent(hierarchy[0], square_indices, i) is False:\n",
        "                squares.append(approx)\n",
        "                square_indices.append(i)\n",
        "        i += 1\n",
        "\n",
        "\n",
        "    main_corners = []\n",
        "    east_corners = []\n",
        "    south_corners = []\n",
        "    tiny_squares = []\n",
        "    rectangles = []\n",
        "\n",
        "    # Determine if squares are QR codes\n",
        "    for square in squares:\n",
        "        area = cv2.contourArea(square)\n",
        "        center = get_center(square)\n",
        "        peri = cv2.arcLength(square, True)\n",
        "\n",
        "        similar = []\n",
        "        tiny = []\n",
        "        for other in squares:\n",
        "            if square[0][0][0] != other[0][0][0]:\n",
        "                # Determine if square is similar to other square within AREA_TOLERANCE\n",
        "                if math.fabs(area - cv2.contourArea(other)) / max(area, cv2.contourArea(other)) <= AREA_TOLERANCE:\n",
        "                    similar.append(other)\n",
        "                elif peri / 4 / 2 > cv2.arcLength(other, True) / 4:\n",
        "                    tiny.append(other)\n",
        "\n",
        "        if len(similar) >= 2:\n",
        "            distances = []\n",
        "            distances_to_contours = {}\n",
        "            for sim in similar:\n",
        "                sim_center = get_center(sim)\n",
        "                d = math.hypot(sim_center[0] - center[0], sim_center[1] - center[1])\n",
        "                distances.append(d)\n",
        "                distances_to_contours[d] = sim\n",
        "            distances = sorted(distances)\n",
        "            closest_a = distances[-1]\n",
        "            closest_b = distances[-2]\n",
        "\n",
        "            # Determine if this square is the top left QR code indicator\n",
        "            if max(closest_a, closest_b) < cv2.arcLength(square, True) * 2.5 and math.fabs(closest_a - closest_b) / max(closest_a, closest_b) <= DISTANCE_TOLERANCE:\n",
        "                # Determine placement of other indicators (even if code is rotated)\n",
        "                angle_a = get_angle(get_center(distances_to_contours[closest_a]), center)\n",
        "                angle_b = get_angle(get_center(distances_to_contours[closest_b]), center)\n",
        "                if angle_a < angle_b or (angle_b < -90 and angle_a > 0):\n",
        "                    east = distances_to_contours[closest_a]\n",
        "                    south = distances_to_contours[closest_b]\n",
        "                else:\n",
        "                    east = distances_to_contours[closest_b]\n",
        "                    south = distances_to_contours[closest_a]\n",
        "                midpoint = get_midpoint(get_center(east), get_center(south))\n",
        "                # Determine location of fourth corner\n",
        "                # Find closest tiny indicator if possible\n",
        "                min_dist = 10000\n",
        "                t = []\n",
        "                tiny_found = False\n",
        "                if len(tiny) > 0:\n",
        "                    for tin in tiny:\n",
        "                        tin_center = get_center(tin)\n",
        "                        d = math.hypot(tin_center[0] - midpoint[0], tin_center[1] - midpoint[1])\n",
        "                        if d < min_dist:\n",
        "                            min_dist = d\n",
        "                            t = tin\n",
        "                    tiny_found = len(t) > 0 and min_dist < peri\n",
        "\n",
        "                diagonal = peri / 4 * 1.41421\n",
        "\n",
        "\n",
        "                # extrapolate corner based off of other corners\n",
        "                farthest_a = get_farthest_points(distances_to_contours[closest_a], center)\n",
        "                farthest_b = get_farthest_points(distances_to_contours[closest_b], center)\n",
        "                # Use sides of indicators to determine fourth corner\n",
        "                offset = line_intersection(farthest_a, farthest_b)\n",
        "                if offset[0] == -1:\n",
        "                    # Error, extrapolation failed, go on to next possible code\n",
        "                    continue\n",
        "                offset = extend(midpoint, offset, peri / 4 / 7)\n",
        "                \n",
        "\n",
        "                # Append rectangle, offsetting to farthest borders\n",
        "                rectangles.append([extend(midpoint, center, diagonal / 2, True), extend(midpoint, get_center(distances_to_contours[closest_b]), diagonal / 2, True), offset, extend(midpoint, get_center(distances_to_contours[closest_a]), diagonal / 2, True)])\n",
        "                east_corners.append(east)\n",
        "                south_corners.append(south)\n",
        "                main_corners.append(square)\n",
        "\n",
        "    \n",
        "    #debug\n",
        "    #testOutput = frame.copy()\n",
        "    #imshow(cv2.drawContours(testOutput, squares, -1, (255, 255, 0, 1), 2 ))\n",
        "\n",
        "\n",
        "\n",
        "    # Draw rectangle\n",
        "    for rect in rectangles:\n",
        "        vrx = np.array((rect[0], rect[1], rect[2], rect[3]), np.int32)\n",
        "        vrx = vrx.reshape((-1, 1, 2))\n",
        "        cv2.polylines(output, [vrx], True, (0, 255, 255, 1), 2)\n",
        "\n",
        "\n",
        "    # Draw debug information onto frame before outputting it\n",
        "    if debug:\n",
        "        cv2.drawContours(output, squares, -1, (25, 255, 5, 1), 2)\n",
        "        cv2.drawContours(output, main_corners, -1, (0, 0, 128,1), 2)\n",
        "        cv2.drawContours(output, east_corners, -1, (0, 128, 0,1), 2)\n",
        "        cv2.drawContours(output, south_corners, -1, (128, 0, 0,1), 2)\n",
        "        cv2.drawContours(output, tiny_squares, -1, (128, 128, 0,1), 2)\n",
        "\n",
        "    return output"
      ],
      "metadata": {
        "id": "vrYUjxGBkjF5"
      },
      "execution_count": 6,
      "outputs": []
    },
    {
      "cell_type": "code",
      "metadata": {
        "id": "ZpA68lTrcvZs"
      },
      "source": [
        "# initialize the Haar Cascade face detection model\n",
        "face_cascade = cv2.CascadeClassifier(cv2.samples.findFile(cv2.data.haarcascades + 'haarcascade_frontalface_default.xml'))"
      ],
      "execution_count": 7,
      "outputs": []
    },
    {
      "cell_type": "markdown",
      "metadata": {
        "id": "I_xcqQZKYzAj"
      },
      "source": [
        "## Initialize Webcam "
      ]
    },
    {
      "cell_type": "markdown",
      "source": [
        "- start a video stream using our webcam as input\n",
        "- run each frame through detection\n",
        "- create an overlay image\n",
        "- overlay bbx video stream"
      ],
      "metadata": {
        "id": "HCIgtRse_6cH"
      }
    },
    {
      "cell_type": "code",
      "metadata": {
        "id": "ghUlAJzKSjFT"
      },
      "source": [
        "# JavaScript to properly create our live video stream using our webcam as input\n",
        "def video_stream():\n",
        "  js = Javascript('''\n",
        "    var video;\n",
        "    var div = null;\n",
        "    var stream;\n",
        "    var captureCanvas;\n",
        "    var imgElement;\n",
        "    var labelElement;\n",
        "    \n",
        "    var pendingResolve = null;\n",
        "    var shutdown = false;\n",
        "    \n",
        "    function removeDom() {\n",
        "       stream.getVideoTracks()[0].stop();\n",
        "       video.remove();\n",
        "       div.remove();\n",
        "       video = null;\n",
        "       div = null;\n",
        "       stream = null;\n",
        "       imgElement = null;\n",
        "       captureCanvas = null;\n",
        "       labelElement = null;\n",
        "    }\n",
        "    \n",
        "    function onAnimationFrame() {\n",
        "      if (!shutdown) {\n",
        "        window.requestAnimationFrame(onAnimationFrame);\n",
        "      }\n",
        "      if (pendingResolve) {\n",
        "        var result = \"\";\n",
        "        if (!shutdown) {\n",
        "          captureCanvas.getContext('2d').drawImage(video, 0, 0, 640, 480);\n",
        "          result = captureCanvas.toDataURL('image/jpeg', 0.8)\n",
        "        }\n",
        "        var lp = pendingResolve;\n",
        "        pendingResolve = null;\n",
        "        lp(result);\n",
        "      }\n",
        "    }\n",
        "    \n",
        "    async function createDom() {\n",
        "      if (div !== null) {\n",
        "        return stream;\n",
        "      }\n",
        "\n",
        "      div = document.createElement('div');\n",
        "      div.style.border = '2px solid black';\n",
        "      div.style.padding = '3px';\n",
        "      div.style.width = '100%';\n",
        "      div.style.maxWidth = '600px';\n",
        "      document.body.appendChild(div);\n",
        "      \n",
        "      const modelOut = document.createElement('div');\n",
        "      modelOut.innerHTML = \"<span>Status:</span>\";\n",
        "      labelElement = document.createElement('span');\n",
        "      labelElement.innerText = 'No data';\n",
        "      labelElement.style.fontWeight = 'bold';\n",
        "      modelOut.appendChild(labelElement);\n",
        "      div.appendChild(modelOut);\n",
        "           \n",
        "      video = document.createElement('video');\n",
        "      video.style.display = 'block';\n",
        "      video.width = div.clientWidth - 6;\n",
        "      video.setAttribute('playsinline', '');\n",
        "      video.onclick = () => { shutdown = true; };\n",
        "      stream = await navigator.mediaDevices.getUserMedia(\n",
        "          {video: { facingMode: \"environment\"}});\n",
        "      div.appendChild(video);\n",
        "\n",
        "      imgElement = document.createElement('img');\n",
        "      imgElement.style.position = 'absolute';\n",
        "      imgElement.style.zIndex = 1;\n",
        "      imgElement.onclick = () => { shutdown = true; };\n",
        "      div.appendChild(imgElement);\n",
        "      \n",
        "      const instruction = document.createElement('div');\n",
        "      instruction.innerHTML = \n",
        "          '<span style=\"color: red; font-weight: bold;\">' +\n",
        "          'When finished, click here or on the video to stop this demo</span>';\n",
        "      div.appendChild(instruction);\n",
        "      instruction.onclick = () => { shutdown = true; };\n",
        "      \n",
        "      video.srcObject = stream;\n",
        "      await video.play();\n",
        "\n",
        "      captureCanvas = document.createElement('canvas');\n",
        "      captureCanvas.width = 640; //video.videoWidth;\n",
        "      captureCanvas.height = 480; //video.videoHeight;\n",
        "      window.requestAnimationFrame(onAnimationFrame);\n",
        "      \n",
        "      return stream;\n",
        "    }\n",
        "    async function stream_frame(label, imgData) {\n",
        "      if (shutdown) {\n",
        "        removeDom();\n",
        "        shutdown = false;\n",
        "        return '';\n",
        "      }\n",
        "\n",
        "      var preCreate = Date.now();\n",
        "      stream = await createDom();\n",
        "      \n",
        "      var preShow = Date.now();\n",
        "      if (label != \"\") {\n",
        "        labelElement.innerHTML = label;\n",
        "      }\n",
        "            \n",
        "      if (imgData != \"\") {\n",
        "        var videoRect = video.getClientRects()[0];\n",
        "        imgElement.style.top = videoRect.top + \"px\";\n",
        "        imgElement.style.left = videoRect.left + \"px\";\n",
        "        imgElement.style.width = videoRect.width + \"px\";\n",
        "        imgElement.style.height = videoRect.height + \"px\";\n",
        "        imgElement.src = imgData;\n",
        "      }\n",
        "      \n",
        "      var preCapture = Date.now();\n",
        "      var result = await new Promise(function(resolve, reject) {\n",
        "        pendingResolve = resolve;\n",
        "      });\n",
        "      shutdown = false;\n",
        "      \n",
        "      return {'create': preShow - preCreate, \n",
        "              'show': preCapture - preShow, \n",
        "              'capture': Date.now() - preCapture,\n",
        "              'img': result};\n",
        "    }\n",
        "    ''')\n",
        "\n",
        "  display(js)\n",
        "  \n",
        "def video_frame(label, bbox):\n",
        "  data = eval_js('stream_frame(\"{}\", \"{}\")'.format(label, bbox))\n",
        "  return data"
      ],
      "execution_count": 8,
      "outputs": []
    },
    {
      "cell_type": "markdown",
      "source": [
        "## Run"
      ],
      "metadata": {
        "id": "dQDwvcpmkOxI"
      }
    },
    {
      "cell_type": "code",
      "metadata": {
        "id": "1nkSnkbkk4cC",
        "colab": {
          "base_uri": "https://localhost:8080/",
          "height": 17
        },
        "outputId": "9161ddca-ec09-4c5e-b5a8-7e875336ad26"
      },
      "source": [
        "# start streaming video from webcam\n",
        "video_stream()\n",
        "# label for video\n",
        "label_html = 'Capturing...'\n",
        "# initialze bounding box to empty\n",
        "bbox = ''\n",
        "count = 0 \n",
        "while True:\n",
        "    js_reply = video_frame(label_html, bbox)\n",
        "    if not js_reply:\n",
        "        break\n",
        "\n",
        "    # convert JS response to OpenCV Image\n",
        "    img = js_to_image(js_reply[\"img\"])\n",
        "\n",
        "   \n",
        "    #extract code\n",
        "    frame = extract(img, True)\n",
        " \n",
        "    \n",
        "    frame[:,:,3] = (frame.max(axis = 2) > 0 ).astype(int) * 255\n",
        "\n",
        "    # convert overlay of bbox into bytes\n",
        "    bbox_bytes = bbox_to_bytes(frame)\n",
        "\n",
        "    # update bbox so next frame gets new overlay\n",
        "    bbox = bbox_bytes"
      ],
      "execution_count": 9,
      "outputs": [
        {
          "output_type": "display_data",
          "data": {
            "text/plain": [
              "<IPython.core.display.Javascript object>"
            ],
            "application/javascript": [
              "\n",
              "    var video;\n",
              "    var div = null;\n",
              "    var stream;\n",
              "    var captureCanvas;\n",
              "    var imgElement;\n",
              "    var labelElement;\n",
              "    \n",
              "    var pendingResolve = null;\n",
              "    var shutdown = false;\n",
              "    \n",
              "    function removeDom() {\n",
              "       stream.getVideoTracks()[0].stop();\n",
              "       video.remove();\n",
              "       div.remove();\n",
              "       video = null;\n",
              "       div = null;\n",
              "       stream = null;\n",
              "       imgElement = null;\n",
              "       captureCanvas = null;\n",
              "       labelElement = null;\n",
              "    }\n",
              "    \n",
              "    function onAnimationFrame() {\n",
              "      if (!shutdown) {\n",
              "        window.requestAnimationFrame(onAnimationFrame);\n",
              "      }\n",
              "      if (pendingResolve) {\n",
              "        var result = \"\";\n",
              "        if (!shutdown) {\n",
              "          captureCanvas.getContext('2d').drawImage(video, 0, 0, 640, 480);\n",
              "          result = captureCanvas.toDataURL('image/jpeg', 0.8)\n",
              "        }\n",
              "        var lp = pendingResolve;\n",
              "        pendingResolve = null;\n",
              "        lp(result);\n",
              "      }\n",
              "    }\n",
              "    \n",
              "    async function createDom() {\n",
              "      if (div !== null) {\n",
              "        return stream;\n",
              "      }\n",
              "\n",
              "      div = document.createElement('div');\n",
              "      div.style.border = '2px solid black';\n",
              "      div.style.padding = '3px';\n",
              "      div.style.width = '100%';\n",
              "      div.style.maxWidth = '600px';\n",
              "      document.body.appendChild(div);\n",
              "      \n",
              "      const modelOut = document.createElement('div');\n",
              "      modelOut.innerHTML = \"<span>Status:</span>\";\n",
              "      labelElement = document.createElement('span');\n",
              "      labelElement.innerText = 'No data';\n",
              "      labelElement.style.fontWeight = 'bold';\n",
              "      modelOut.appendChild(labelElement);\n",
              "      div.appendChild(modelOut);\n",
              "           \n",
              "      video = document.createElement('video');\n",
              "      video.style.display = 'block';\n",
              "      video.width = div.clientWidth - 6;\n",
              "      video.setAttribute('playsinline', '');\n",
              "      video.onclick = () => { shutdown = true; };\n",
              "      stream = await navigator.mediaDevices.getUserMedia(\n",
              "          {video: { facingMode: \"environment\"}});\n",
              "      div.appendChild(video);\n",
              "\n",
              "      imgElement = document.createElement('img');\n",
              "      imgElement.style.position = 'absolute';\n",
              "      imgElement.style.zIndex = 1;\n",
              "      imgElement.onclick = () => { shutdown = true; };\n",
              "      div.appendChild(imgElement);\n",
              "      \n",
              "      const instruction = document.createElement('div');\n",
              "      instruction.innerHTML = \n",
              "          '<span style=\"color: red; font-weight: bold;\">' +\n",
              "          'When finished, click here or on the video to stop this demo</span>';\n",
              "      div.appendChild(instruction);\n",
              "      instruction.onclick = () => { shutdown = true; };\n",
              "      \n",
              "      video.srcObject = stream;\n",
              "      await video.play();\n",
              "\n",
              "      captureCanvas = document.createElement('canvas');\n",
              "      captureCanvas.width = 640; //video.videoWidth;\n",
              "      captureCanvas.height = 480; //video.videoHeight;\n",
              "      window.requestAnimationFrame(onAnimationFrame);\n",
              "      \n",
              "      return stream;\n",
              "    }\n",
              "    async function stream_frame(label, imgData) {\n",
              "      if (shutdown) {\n",
              "        removeDom();\n",
              "        shutdown = false;\n",
              "        return '';\n",
              "      }\n",
              "\n",
              "      var preCreate = Date.now();\n",
              "      stream = await createDom();\n",
              "      \n",
              "      var preShow = Date.now();\n",
              "      if (label != \"\") {\n",
              "        labelElement.innerHTML = label;\n",
              "      }\n",
              "            \n",
              "      if (imgData != \"\") {\n",
              "        var videoRect = video.getClientRects()[0];\n",
              "        imgElement.style.top = videoRect.top + \"px\";\n",
              "        imgElement.style.left = videoRect.left + \"px\";\n",
              "        imgElement.style.width = videoRect.width + \"px\";\n",
              "        imgElement.style.height = videoRect.height + \"px\";\n",
              "        imgElement.src = imgData;\n",
              "      }\n",
              "      \n",
              "      var preCapture = Date.now();\n",
              "      var result = await new Promise(function(resolve, reject) {\n",
              "        pendingResolve = resolve;\n",
              "      });\n",
              "      shutdown = false;\n",
              "      \n",
              "      return {'create': preShow - preCreate, \n",
              "              'show': preCapture - preShow, \n",
              "              'capture': Date.now() - preCapture,\n",
              "              'img': result};\n",
              "    }\n",
              "    "
            ]
          },
          "metadata": {}
        }
      ]
    },
    {
      "cell_type": "markdown",
      "source": [
        "#Hu Moments"
      ],
      "metadata": {
        "id": "F_rQiq1yr6vQ"
      }
    },
    {
      "cell_type": "code",
      "source": [
        "from math import copysign, log10\n",
        "\n",
        "# Read image\n",
        "im = cv2.imread('/content/drive/MyDrive/Colab Notebooks/segment.png',cv2.IMREAD_GRAYSCALE)\n",
        "im2 = cv2.imread('/content/drive/MyDrive/Colab Notebooks/segment_4.png',cv2.IMREAD_GRAYSCALE)\n",
        "\n",
        "# Threshold image\n",
        "_,im = cv2.threshold(im, 128, 255, cv2.THRESH_BINARY)\n",
        "_,im2 = cv2.threshold(im2, 128, 255, cv2.THRESH_BINARY)\n",
        "\n",
        "# Calculate Moments\n",
        "moment = cv2.moments(im)\n",
        "moment2 = cv2.moments(im2)\n",
        "\n",
        "\n",
        "# Calculate Hu Moments\n",
        "huMoments = cv2.HuMoments(moment)\n",
        "huMoments2 = cv2.HuMoments(moment2)\n",
        "\n",
        "# Print Hu Moments\n",
        "\n",
        "for i in range(0,7):\n",
        "  print(\"Image 1: {:.5f}\".format(-1*copysign(1.0,huMoments[i])*log10(abs(huMoments[i]))),end=' ')\n",
        "\n",
        "\n",
        "print()\n",
        "for i in range(0,7):\n",
        "  print(\"Image 2: {:.5f}\".format(-1*copysign(1.0,huMoments2[i])*log10(abs(huMoments2[i]))),end=' ')\n"
      ],
      "metadata": {
        "colab": {
          "base_uri": "https://localhost:8080/"
        },
        "id": "LujpSOVBr581",
        "outputId": "5aef14a4-b9aa-4f7e-8273-20bc7aeec251"
      },
      "execution_count": null,
      "outputs": [
        {
          "output_type": "stream",
          "name": "stdout",
          "text": [
            "Image 1: 2.88899 Image 1: 6.23852 Image 1: 8.62316 Image 1: 9.62634 Image 1: -18.75113 Image 1: -12.74563 Image 1: 20.61870 \n",
            "Image 2: 2.88912 Image 2: 6.23870 Image 2: 8.62420 Image 2: 9.62778 Image 2: -18.75387 Image 2: -12.74720 Image 2: -20.43653 "
          ]
        }
      ]
    },
    {
      "cell_type": "code",
      "source": [
        "im1 = cv2.imread(\"/content/drive/MyDrive/Colab Notebooks/segment.png\",cv2.IMREAD_GRAYSCALE)\n",
        "im2 = cv2.imread(\"/content/drive/MyDrive/Colab Notebooks/segment_1.png\",cv2.IMREAD_GRAYSCALE)\n",
        "im3 = cv2.imread(\"/content/drive/MyDrive/Colab Notebooks/segment_2.png\",cv2.IMREAD_GRAYSCALE)\n",
        "im4 = cv2.imread(\"/content/drive/MyDrive/Colab Notebooks/segment_4.png\",cv2.IMREAD_GRAYSCALE)\n",
        "\n",
        "m1 = cv2.matchShapes(im1,im1,cv2.CONTOURS_MATCH_I2,0)\n",
        "m2 = cv2.matchShapes(im1,im2,cv2.CONTOURS_MATCH_I2,0)\n",
        "m3 = cv2.matchShapes(im1,im3,cv2.CONTOURS_MATCH_I2,0)\n",
        "m4 = cv2.matchShapes(im1,im4,cv2.CONTOURS_MATCH_I2,0)\n",
        "\n",
        "print(\"Shape Distances Between \\n-------------------------\")\n",
        "\n",
        "print(\"1.png and 1.png : {}\".format(m1))\n",
        "print(\"1.png and 2.png : {}\".format(m2))\n",
        "print(\"1.png and 3.png : {}\".format(m3))\n",
        "print(\"1.png and 4.png : {}\".format(m4))"
      ],
      "metadata": {
        "colab": {
          "base_uri": "https://localhost:8080/"
        },
        "id": "rq_mVGbmtsNB",
        "outputId": "3a82a3d7-2c3f-4102-e4e5-f15a7618076f"
      },
      "execution_count": null,
      "outputs": [
        {
          "output_type": "stream",
          "name": "stdout",
          "text": [
            "Shape Distances Between \n",
            "-------------------------\n",
            "1.png and 1.png : 0.0\n",
            "1.png and 2.png : 0.24256060367005006\n",
            "1.png and 3.png : 0.3690217240113558\n",
            "1.png and 4.png : 2.631098646377339e-05\n"
          ]
        }
      ]
    },
    {
      "cell_type": "code",
      "source": [
        "image = cv2.imread(\"/content/drive/MyDrive/Colab Notebooks/Closeup.png\")\n",
        "image = cv2.cvtColor(image, cv2.COLOR_BGR2GRAY)\n",
        "#image = cv2.GaussianBlur(image, (7, 7), 0)\n",
        "#image = cv2.bilateralFilter(image, 11, 17, 17)\n",
        "\n",
        "image = cv2.Canny(image, 1, 2)\n",
        "\n",
        "image = cv2.dilate(image, np.ones((3)), iterations=1)\n",
        "image = cv2.erode(image, np.ones((3)), iterations=1)\n",
        "\n",
        "output = cv2.imread(\"/content/drive/MyDrive/Colab Notebooks/Closeup.png\") #np.zeros([image.shape[0],image.shape[1],4], dtype=np.uint8)\n",
        "\n",
        "    \n",
        "contours, hierarchy = cv2.findContours(image.copy(), cv2.RETR_TREE, cv2.CHAIN_APPROX_SIMPLE)\n",
        "\n",
        "shapes=[]\n",
        "for c in contours:\n",
        "  peri = cv2.arcLength(c, True)\n",
        "  shapes.append(cv2.approxPolyDP(c, 5, True))\n",
        "\n",
        "output = cv2.drawContours(output, contours, -1, (255, 255, 0, 1), 2)\n",
        "cv2_imshow(output)"
      ],
      "metadata": {
        "colab": {
          "base_uri": "https://localhost:8080/"
        },
        "id": "eR5YK13IzB7f",
        "outputId": "b097cffe-205a-4acb-edb0-9ea81ffe21d1"
      },
      "execution_count": null,
      "outputs": [
        {
          "output_type": "display_data",
          "data": {
            "text/plain": [
              "<PIL.Image.Image image mode=RGB size=270x270 at 0x7F713A5F4950>"
            ],
            "image/png": "[encoded data removed]"
          },
          "metadata": {}
        }
      ]
    },
    {
      "cell_type": "markdown",
      "source": [
        "#BLOB"
      ],
      "metadata": {
        "id": "NChNhm3DWy91"
      }
    },
    {
      "cell_type": "code",
      "source": [
        "im = cv2.imread(\"/content/drive/MyDrive/Colab Notebooks/Closeup.png\", cv2.IMREAD_GRAYSCALE)\n",
        "\n",
        "# Setup SimpleBlobDetector parameters.\n",
        "params = cv2.SimpleBlobDetector_Params()\n",
        "\n",
        "# Change thresholds\n",
        "params.minThreshold = 0\n",
        "params.maxThreshold = 400\n",
        "\n",
        "\n",
        "# Filter by Area.\n",
        "params.filterByArea = True\n",
        "params.minArea = 1500\n",
        "\n",
        "\n",
        "\n",
        "# Create a detector with the parameters\n",
        "ver = (cv2.__version__).split('.')\n",
        "if int(ver[0]) < 3 :\n",
        "\tdetector = cv2.SimpleBlobDetector(params)\n",
        "else : \n",
        "\tdetector = cv2.SimpleBlobDetector_create(params)\n",
        "\n",
        "\n",
        "# Detect blobs.\n",
        "keypoints = detector.detect(im)\n",
        "\n",
        "# Draw detected blobs as red circles.\n",
        "# cv2.DRAW_MATCHES_FLAGS_DRAW_RICH_KEYPOINTS ensures\n",
        "# the size of the circle corresponds to the size of blob\n",
        "\n",
        "im_with_keypoints = cv2.drawKeypoints(im, keypoints, np.array([]), (0,0,255), cv2.DRAW_MATCHES_FLAGS_DRAW_RICH_KEYPOINTS)\n",
        "\n",
        "# Show blobs\n",
        "imshow(im_with_keypoints)\n",
        "cv2.waitKey(0)"
      ],
      "metadata": {
        "colab": {
          "base_uri": "https://localhost:8080/"
        },
        "id": "KE0AGvWNWta6",
        "outputId": "4833ebe2-e3ce-41d9-b346-d1ee37de32e4"
      },
      "execution_count": null,
      "outputs": [
        {
          "output_type": "execute_result",
          "data": {
            "text/plain": [
              "-1"
            ]
          },
          "metadata": {},
          "execution_count": 22
        },
        {
          "output_type": "display_data",
          "data": {
            "text/plain": [
              "<Figure size 432x288 with 1 Axes>"
            ],
            "image/png": "[encoded data removed]"
          },
          "metadata": {
            "needs_background": "light"
          }
        }
      ]
    },
    {
      "cell_type": "markdown",
      "source": [
        "#Template matching\n"
      ],
      "metadata": {
        "id": "jjjGi8nTahhc"
      }
    },
    {
      "cell_type": "markdown",
      "source": [
        "##Methods"
      ],
      "metadata": {
        "id": "ge8BO9GnHeT7"
      }
    },
    {
      "cell_type": "code",
      "source": [
        "def dist(point1, point2):\n",
        "  \"\"\" Calculates Distance between two points because math.dist() wont work\"\"\"\n",
        "  temp = np.asarray(point1) - np.asarray(point2)\n",
        "  return np.sqrt(np.dot(temp.T, temp))\n",
        "\n",
        "def filterCoordinates(input_list, threshold=5):\n",
        "  \"\"\" Deletes similar matches within threshold distance of points\"\"\"\n",
        "  input = input_list.tolist()\n",
        "  combos = itertools.combinations(input, 2)\n",
        "  points_to_remove = [point2 for point1, point2 in combos if dist(point1, point2)<=threshold]\n",
        "  points_to_keep = [point for point in input if point not in points_to_remove]\n",
        "  return points_to_keep\n",
        "  \n",
        "def tupleCoord(inTuple):\n",
        "  \"\"\"Converts a tuple consisting of two arrays with length x into a coordinate np.array of shape (x,2)\"\"\"\n",
        "  coordinates = np.zeros((inTuple[0].shape[0], 2), dtype=int)\n",
        "  i = 0\n",
        "  for point in zip(*inTuple[::-1]):\n",
        "    coordinates[i] = (point[0],point[1])\n",
        "    i +=1\n",
        "\n",
        "  return coordinates"
      ],
      "metadata": {
        "id": "ccxa5viFu3Ls"
      },
      "execution_count": 10,
      "outputs": []
    },
    {
      "cell_type": "code",
      "source": [
        "def shapeExtraction(inputImage, template, threshold=0.8):\n",
        "  \"\"\"Extracts the template shape from the given image\n",
        "     and  returns rectangles and an image with rectangles drawn over the matchin shapes\"\"\"\n",
        "  image = inputImage\n",
        "  output = np.zeros([image.shape[0],image.shape[1],4], dtype=np.uint8)\n",
        "\n",
        "  image = cv2.cvtColor(image, cv2.COLOR_BGR2GRAY)\n",
        "  image = 255 - image  \n",
        "\n",
        "  # Store width and height of template in w and h\n",
        "  w , h = template.shape[::-1]\n",
        "\n",
        "  # Perform match operations.\n",
        "  res = cv2.matchTemplate(image,template,cv2.TM_CCOEFF_NORMED)\n",
        "\n",
        "  # Store the coordinates of matched area in a numpy array\n",
        "  loc = np.where( res >= threshold)\n",
        "  \n",
        "  #delete similar coordinates\n",
        "  rectangles = filterCoordinates(tupleCoord(loc))\n",
        "\n",
        "  # Draw a rectangle around the matched region.\n",
        "  for rectangle in rectangles:\n",
        "    cv2.rectangle(output, (rectangle[0], rectangle[1]), (rectangle[0] + w, rectangle[1] + h), (255,0,0,1), 2)\n",
        "  \n",
        "  #imshow(output)\n",
        "  return rectangles, (w,h), output"
      ],
      "metadata": {
        "id": "gLCIDEOOajF9"
      },
      "execution_count": 11,
      "outputs": []
    },
    {
      "cell_type": "code",
      "source": [
        "def scaleTo(inputImage, maxSize):\n",
        "  maxVal = max(inputImage.shape[0], inputImage.shape[1])\n",
        "  scaleFactor = maxSize / maxVal\n",
        "  width = int(inputImage.shape[1] * scaleFactor)\n",
        "  height = int(inputImage.shape[0] * scaleFactor)\n",
        "  dim = (width, height)\n",
        "\n",
        "  return cv2.resize(inputImage, dim, interpolation = cv2.INTER_AREA)"
      ],
      "metadata": {
        "id": "FH4MqjsuNqQq"
      },
      "execution_count": 12,
      "outputs": []
    },
    {
      "cell_type": "code",
      "source": [
        "def piePlot(img, k):\n",
        "  kmeans=KMeans(n_clusters=k)\n",
        "  s=kmeans.fit(img)\n",
        "  labels=kmeans.labels_\n",
        "  centroid=kmeans.cluster_centers_\n",
        "  #print(centroid)\n",
        "  labels=list(labels)\n",
        "  percent=[]\n",
        "  for i in range(len(centroid)):\n",
        "    j=labels.count(i)\n",
        "    j=j/(len(labels))\n",
        "    percent.append(j)\n",
        "  return percent, (np.array(centroid/255))"
      ],
      "metadata": {
        "id": "iQRSJKCYUp8U"
      },
      "execution_count": 13,
      "outputs": []
    },
    {
      "cell_type": "code",
      "source": [
        "import colorsys\n",
        "def colorDist(color1, color2):\n",
        "  r,g,b = color1[:]\n",
        "  colorOne = colorsys.rgb_to_hsv(r,g,b)\n",
        "  r,g,b = color2[:]\n",
        "  colorTwo = colorsys.rgb_to_hsv(r,g,b)\n",
        "\n",
        "  h0,s0,v0 = colorOne[:]\n",
        "  h1,s1,v1 = colorTwo[:]\n",
        "  dh = min(abs(h1-h0), 360-abs(h1-h0)) / 180.0\n",
        "  ds = abs(s1-s0)\n",
        "  dv = abs(v1-v0) / 255.0\n",
        "\n",
        "  return math.sqrt(dh*dh+ds*ds+dv*dv)"
      ],
      "metadata": {
        "id": "COif11E7pBga"
      },
      "execution_count": 14,
      "outputs": []
    },
    {
      "cell_type": "code",
      "source": [
        "def getAngle(a, b,c):\n",
        "    angle = math.degrees(math.atan2(c[1]-b[1], c[0]-b[0]) - math.atan2(a[1]-b[1], a[0]-b[0]))\n",
        "    return angle + 360 if angle < 0 else angle"
      ],
      "metadata": {
        "id": "EXq6FN3o6vyX"
      },
      "execution_count": 15,
      "outputs": []
    },
    {
      "cell_type": "markdown",
      "source": [
        "##Id Selection"
      ],
      "metadata": {
        "id": "o-5kc0QnIprB"
      }
    },
    {
      "cell_type": "code",
      "source": [
        "from traitlets.traitlets import Int\n",
        "import glob\n",
        "\n",
        "def id_selector(image, templatePath, searchThreshold = 0.8, distanceThreshold = 0.02, angleVariance = 2, debug = False):\n",
        "  S_DIST = 0.875 #Search distance for inset point\n",
        "  R_DIST = 1.1428571429 #Relative distance in width to edge based on height\n",
        "  HV_TOLERANCE  = 0.0625 #Horizontal and vertical tolerance for 'parallel' points relative to distance\n",
        "\n",
        "  if max(image.shape[:]) > 800:\n",
        "    image = scaleTo(image,800)\n",
        "\n",
        "  id_perimeter = []\n",
        "  output = np.zeros([image.shape[0],image.shape[1],4], dtype=np.uint8)\n",
        "\n",
        "\n",
        "  for tPath in glob.glob(templatePath + \"*.jpg\"):\n",
        "    template = cv2.imread(tPath,0)\n",
        "    \n",
        "    for i in range(0,4):\n",
        "      template = cv2.rotate(template, cv2.cv2.ROTATE_90_CLOCKWISE)\n",
        "\n",
        "\n",
        "\n",
        "      rectangles, dimensions, _ = shapeExtraction(image,template,searchThreshold)\n",
        "\n",
        "      half = int(max(dimensions[:])/2)\n",
        "\n",
        "      midpoints = []\n",
        "      for rect in rectangles:\n",
        "        midpoints.append(get_midpoint(rect, (rect[0] + dimensions[0],rect[1] + dimensions[1])))\n",
        "        if debug:\n",
        "          cv2.circle(output,tuple(np.asarray(get_midpoint(rect, (rect[0] + dimensions[0],rect[1] + dimensions[1])), dtype = int)), 10, (255,255,0,1),2)\n",
        "\n",
        "      pointMatch = []\n",
        "      combos = itertools.permutations(midpoints, 3)\n",
        "\n",
        "      for point1, point2, point3 in combos:\n",
        "        d1, d2 = dist(point1, point2), dist(point2, point3)\n",
        "        x1, y1 = point1[:]\n",
        "        x2, y2 = point2[:]\n",
        "        x3, y3 = point3[:]\n",
        "\n",
        "        if x3 > x2 and y1 > y2 and abs(y3-y2) < (d1 * HV_TOLERANCE) and abs(x2-x1) < (d1 * HV_TOLERANCE): \n",
        "          if  (S_DIST - distanceThreshold) * d1 < d2 < (S_DIST + distanceThreshold) * d1 and \\\n",
        "              (270 - angleVariance < getAngle(point1,point2,point3) < 270 + angleVariance \\\n",
        "              or 90 - angleVariance < getAngle(point1,point2,point3) < 90 + angleVariance): \n",
        "            pointMatch.append([point1,point2,point3])\n",
        "            print(tPath, ' Match')\n",
        "\n",
        "\n",
        "\n",
        "      pointMatch = np.asarray(pointMatch).astype(int)\n",
        "\n",
        "      for pointSet in pointMatch:\n",
        "        cv2.rectangle(output, (pointSet[1][0] - half, pointSet[1][1] -half), (pointSet[1][0] + (dist(pointSet[1], pointSet[2])* R_DIST).astype(int) + half,pointSet[0][1] + half),(0,255,255,1), 3 )\n",
        "        id_perimeter.append([[pointSet[1][0] - half, pointSet[1][1] -half],[pointSet[1][0] + (dist(pointSet[1], pointSet[2])* R_DIST).astype(int) + half,pointSet[0][1] + half]])\n",
        "        \n",
        "        if debug:\n",
        "          for mPoint in pointSet:\n",
        "            x,y = mPoint[:]\n",
        "            cv2.rectangle(output, (x-half, y-half)  , (x+half, y+half), (255,255,255,1), 2)\n",
        "\n",
        "          cv2.line(output,  (pointSet[0][0], pointSet[0][1]), (pointSet[1][0], pointSet[1][1]), (255,0,255,1), 2)\n",
        "          cv2.line(output,  (pointSet[1][0], pointSet[1][1]), (pointSet[2][0], pointSet[2][1]), (0,255,255,1), 2)\n",
        "          cv2.line(output,  (pointSet[2][0], pointSet[2][1]), (pointSet[0][0], pointSet[0][1]), (255,255,0,1), 2)\n",
        "          cv2.putText(output,\"1\",(pointSet[0][0], pointSet[0][1]),cv2.FONT_HERSHEY_DUPLEX, 0.5,(255, 255, 255), thickness = 2)\n",
        "          cv2.putText(output,\"2\",(pointSet[1][0], pointSet[1][1]),cv2.FONT_HERSHEY_DUPLEX, 0.5,(255, 255, 255), thickness = 2)\n",
        "          cv2.putText(output,\"3\",(pointSet[2][0], pointSet[2][1]),cv2.FONT_HERSHEY_DUPLEX, 0.5,(255, 255, 255), thickness = 2)\n",
        "          \n",
        "    image = cv2.addWeighted(cv2.cvtColor(image, cv2.COLOR_RGB2RGBA), 1, output, 1,0)\n",
        "\n",
        "  return image,output,id_perimeter"
      ],
      "metadata": {
        "id": "xg_7tcCIIpBG"
      },
      "execution_count": 67,
      "outputs": []
    },
    {
      "cell_type": "code",
      "source": [
        "image = cv2.imread(\"/content/drive/MyDrive/Colab Notebooks/images/9x9_frog.jpg\")\n",
        "image = cv2.rotate(image, cv2.cv2.ROTATE_90_CLOCKWISE)\n",
        "\n",
        "templatePath = \"/content/drive/MyDrive/Colab Notebooks/images/templates/\"\n",
        "\n",
        "image,output,_ = id_selector(image, templatePath, 0.65, debug = True)\n",
        "cv2_imshow(image)"
      ],
      "metadata": {
        "colab": {
          "base_uri": "https://localhost:8080/",
          "height": 287
        },
        "id": "gtpZsFzstVU5",
        "outputId": "e07bcdfa-8818-43d7-b888-fbc25d2423a6"
      },
      "execution_count": 73,
      "outputs": [
        {
          "output_type": "display_data",
          "data": {
            "text/plain": [
              "<PIL.Image.Image image mode=RGBA size=270x270 at 0x7F091DF39A10>"
            ],
            "image/png": "[encoded data removed]"
          },
          "metadata": {}
        }
      ]
    },
    {
      "cell_type": "markdown",
      "source": [
        "##Run Webcam"
      ],
      "metadata": {
        "id": "3lXX14z0kNuY"
      }
    },
    {
      "cell_type": "code",
      "metadata": {
        "id": "TVnqCK17iRUu",
        "colab": {
          "base_uri": "https://localhost:8080/",
          "height": 17
        },
        "outputId": "f7fb2005-0982-4cc9-dc1e-5c2a79f453cf"
      },
      "source": [
        "template = cv2.imread(\"/content/drive/MyDrive/Colab Notebooks/images/template_arrow.jpg\",0)\n",
        "\n",
        "# start streaming video from webcam\n",
        "video_stream()\n",
        "# label for video\n",
        "label_html = 'Capturing...'\n",
        "# initialze bounding box to empty\n",
        "bbox = ''\n",
        "count = 0 \n",
        "while True:\n",
        "    js_reply = video_frame(label_html, bbox)\n",
        "    if not js_reply:\n",
        "        break\n",
        "\n",
        "    # convert JS response to OpenCV Image\n",
        "    img = js_to_image(js_reply[\"img\"])\n",
        "\n",
        "    #cv2.imwrite('image.jpg',img)\n",
        "   \n",
        "    #extract code\n",
        "    _,output,_ = id_selector(img, template, 0.7, debug = True)\n",
        "\n",
        "    output[:,:,3] = (output.max(axis = 2) > 0 ).astype(int) * 255\n",
        "\n",
        "    # convert overlay of bbox into bytes\n",
        "    bbox_bytes = bbox_to_bytes(output)\n",
        "\n",
        "    # update bbox so next frame gets new overlay\n",
        "    bbox = bbox_bytes"
      ],
      "execution_count": null,
      "outputs": [
        {
          "output_type": "display_data",
          "data": {
            "text/plain": [
              "<IPython.core.display.Javascript object>"
            ],
            "application/javascript": [
              "\n",
              "    var video;\n",
              "    var div = null;\n",
              "    var stream;\n",
              "    var captureCanvas;\n",
              "    var imgElement;\n",
              "    var labelElement;\n",
              "    \n",
              "    var pendingResolve = null;\n",
              "    var shutdown = false;\n",
              "    \n",
              "    function removeDom() {\n",
              "       stream.getVideoTracks()[0].stop();\n",
              "       video.remove();\n",
              "       div.remove();\n",
              "       video = null;\n",
              "       div = null;\n",
              "       stream = null;\n",
              "       imgElement = null;\n",
              "       captureCanvas = null;\n",
              "       labelElement = null;\n",
              "    }\n",
              "    \n",
              "    function onAnimationFrame() {\n",
              "      if (!shutdown) {\n",
              "        window.requestAnimationFrame(onAnimationFrame);\n",
              "      }\n",
              "      if (pendingResolve) {\n",
              "        var result = \"\";\n",
              "        if (!shutdown) {\n",
              "          captureCanvas.getContext('2d').drawImage(video, 0, 0, 640, 480);\n",
              "          result = captureCanvas.toDataURL('image/jpeg', 0.8)\n",
              "        }\n",
              "        var lp = pendingResolve;\n",
              "        pendingResolve = null;\n",
              "        lp(result);\n",
              "      }\n",
              "    }\n",
              "    \n",
              "    async function createDom() {\n",
              "      if (div !== null) {\n",
              "        return stream;\n",
              "      }\n",
              "\n",
              "      div = document.createElement('div');\n",
              "      div.style.border = '2px solid black';\n",
              "      div.style.padding = '3px';\n",
              "      div.style.width = '100%';\n",
              "      div.style.maxWidth = '600px';\n",
              "      document.body.appendChild(div);\n",
              "      \n",
              "      const modelOut = document.createElement('div');\n",
              "      modelOut.innerHTML = \"<span>Status:</span>\";\n",
              "      labelElement = document.createElement('span');\n",
              "      labelElement.innerText = 'No data';\n",
              "      labelElement.style.fontWeight = 'bold';\n",
              "      modelOut.appendChild(labelElement);\n",
              "      div.appendChild(modelOut);\n",
              "           \n",
              "      video = document.createElement('video');\n",
              "      video.style.display = 'block';\n",
              "      video.width = div.clientWidth - 6;\n",
              "      video.setAttribute('playsinline', '');\n",
              "      video.onclick = () => { shutdown = true; };\n",
              "      stream = await navigator.mediaDevices.getUserMedia(\n",
              "          {video: { facingMode: \"environment\"}});\n",
              "      div.appendChild(video);\n",
              "\n",
              "      imgElement = document.createElement('img');\n",
              "      imgElement.style.position = 'absolute';\n",
              "      imgElement.style.zIndex = 1;\n",
              "      imgElement.onclick = () => { shutdown = true; };\n",
              "      div.appendChild(imgElement);\n",
              "      \n",
              "      const instruction = document.createElement('div');\n",
              "      instruction.innerHTML = \n",
              "          '<span style=\"color: red; font-weight: bold;\">' +\n",
              "          'When finished, click here or on the video to stop this demo</span>';\n",
              "      div.appendChild(instruction);\n",
              "      instruction.onclick = () => { shutdown = true; };\n",
              "      \n",
              "      video.srcObject = stream;\n",
              "      await video.play();\n",
              "\n",
              "      captureCanvas = document.createElement('canvas');\n",
              "      captureCanvas.width = 640; //video.videoWidth;\n",
              "      captureCanvas.height = 480; //video.videoHeight;\n",
              "      window.requestAnimationFrame(onAnimationFrame);\n",
              "      \n",
              "      return stream;\n",
              "    }\n",
              "    async function stream_frame(label, imgData) {\n",
              "      if (shutdown) {\n",
              "        removeDom();\n",
              "        shutdown = false;\n",
              "        return '';\n",
              "      }\n",
              "\n",
              "      var preCreate = Date.now();\n",
              "      stream = await createDom();\n",
              "      \n",
              "      var preShow = Date.now();\n",
              "      if (label != \"\") {\n",
              "        labelElement.innerHTML = label;\n",
              "      }\n",
              "            \n",
              "      if (imgData != \"\") {\n",
              "        var videoRect = video.getClientRects()[0];\n",
              "        imgElement.style.top = videoRect.top + \"px\";\n",
              "        imgElement.style.left = videoRect.left + \"px\";\n",
              "        imgElement.style.width = videoRect.width + \"px\";\n",
              "        imgElement.style.height = videoRect.height + \"px\";\n",
              "        imgElement.src = imgData;\n",
              "      }\n",
              "      \n",
              "      var preCapture = Date.now();\n",
              "      var result = await new Promise(function(resolve, reject) {\n",
              "        pendingResolve = resolve;\n",
              "      });\n",
              "      shutdown = false;\n",
              "      \n",
              "      return {'create': preShow - preCreate, \n",
              "              'show': preCapture - preShow, \n",
              "              'capture': Date.now() - preCapture,\n",
              "              'img': result};\n",
              "    }\n",
              "    "
            ]
          },
          "metadata": {}
        }
      ]
    },
    {
      "cell_type": "markdown",
      "source": [
        "##Color Matching"
      ],
      "metadata": {
        "id": "FzWsMQYjtr-9"
      }
    },
    {
      "cell_type": "code",
      "source": [
        "\n",
        "resized = scaleTo(image,800)\n",
        "\n",
        "rect, dimensions, _ = shapeExtraction(resized, template,0.6)\n",
        "\n",
        "cropped = resized[rect[0][1]:(rect[0][1] + dimensions[0]), rect[0][0]:(rect[0][0] + dimensions[0]) ]\n",
        "\n",
        "\n",
        "img = cropped.reshape((cropped.shape[1]*cropped.shape[0],3))\n",
        "percent, color = piePlot(img,3)\n",
        "\n",
        "print(color[percent.index(max(percent))] * 255)"
      ],
      "metadata": {
        "colab": {
          "base_uri": "https://localhost:8080/"
        },
        "id": "K6R1dQcft-8_",
        "outputId": "f12f955b-1f9f-419e-be3d-15ca2d45522b"
      },
      "execution_count": null,
      "outputs": [
        {
          "output_type": "stream",
          "name": "stdout",
          "text": [
            "[127.19449902 221.58349705 210.79174853]\n"
          ]
        }
      ]
    },
    {
      "cell_type": "code",
      "source": [
        "matches = {}\n",
        "\n",
        "matches['rectangle'] = []\n",
        "matches['dimension'] = []\n",
        "matches['color'] = []\n",
        "\n",
        "for rectangle in rect:\n",
        "  cropped = resized[rectangle[1]:(rectangle[1] + dimensions[0]), rectangle[0]:(rectangle[0] + dimensions[0])]\n",
        "  #cv2_imshow(cropped)\n",
        "\n",
        "  cropped = cropped.reshape((cropped.shape[1]*cropped.shape[0],3))\n",
        "  percent, color = piePlot(cropped,3)\n",
        "\n",
        "  matches['color'].append(color[percent.index(max(percent))] * 255)\n",
        "  matches['rectangle'].append(rectangle)\n",
        "  matches['dimension'].append(dimensions)\n",
        "\n",
        "\n",
        "colorMatch = np.asarray(matches['color'])\n",
        "percent, color = piePlot(colorMatch,6)\n",
        "\n"
      ],
      "metadata": {
        "id": "hq1IJjz5dRgV"
      },
      "execution_count": null,
      "outputs": []
    },
    {
      "cell_type": "code",
      "source": [
        "print(color*255)\n",
        "print(colorMatch)\n",
        "print(colorDist(color[0],colorMatch[4]))"
      ],
      "metadata": {
        "id": "AwOblUHZsQcE"
      },
      "execution_count": null,
      "outputs": []
    }
  ]
}